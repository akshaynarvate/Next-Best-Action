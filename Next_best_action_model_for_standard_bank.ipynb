{
  "nbformat": 4,
  "nbformat_minor": 0,
  "metadata": {
    "colab": {
      "name": "Next best action model for standard bank.ipynb",
      "provenance": [],
      "collapsed_sections": []
    },
    "kernelspec": {
      "name": "python3",
      "display_name": "Python 3"
    },
    "language_info": {
      "name": "python"
    }
  },
  "cells": [
    {
      "cell_type": "code",
      "execution_count": null,
      "metadata": {
        "id": "7w-dD2QjQcna"
      },
      "outputs": [],
      "source": [
        "# Importing necessary libraries\n",
        "import pandas as pd\n",
        "import numpy as np\n",
        "from sklearn import linear_model\n",
        "from sklearn.preprocessing import LabelEncoder\n",
        "import seaborn as sns\n",
        "import matplotlib.pyplot as plt"
      ]
    },
    {
      "cell_type": "code",
      "source": [
        "# Reading the excel file as DataFrame\n",
        "\n",
        "bank = pd.read_excel(\"/content/CHURNDATA (1).xlsx\")"
      ],
      "metadata": {
        "id": "9NbPLZsmQ9ly"
      },
      "execution_count": null,
      "outputs": []
    },
    {
      "cell_type": "code",
      "source": [
        "# Printing top 5 rows and columns\n",
        "\n",
        "bank.head()"
      ],
      "metadata": {
        "colab": {
          "base_uri": "https://localhost:8080/",
          "height": 525
        },
        "id": "5hQZCG7SQ-wk",
        "outputId": "c09d1260-0bfb-463e-e595-9b1228d0e444"
      },
      "execution_count": null,
      "outputs": [
        {
          "output_type": "execute_result",
          "data": {
            "text/plain": [
              "      CIF              CUS_DOB  AGE  CUS_Month_Income CUS_Gender  \\\n",
              "0  XXXXXX  Feb 13 1970 12:00AM   49           7116.64       MALE   \n",
              "1  XXXXXX  Sep 20 1973 12:00AM   46        1500000.00     FEMALE   \n",
              "2  XXXXXX  Jul 18 1966 12:00AM   53        5000000.00     FEMALE   \n",
              "3  XXXXXX  Jan  9 2004 12:00AM   15            500.00     FEMALE   \n",
              "4  XXXXXX  Mar  7 1971 12:00AM   48        9000000.00     FEMALE   \n",
              "\n",
              "  CUS_Marital_Status CUS_Customer_Since  YEARS_WITH_US  \\\n",
              "0            MARRIED         1994-06-30             25   \n",
              "1             SINGLE         2005-05-19             14   \n",
              "2             SINGLE         2005-05-20             14   \n",
              "3             SINGLE         2005-05-20             14   \n",
              "4             SINGLE         2014-06-30              5   \n",
              "\n",
              "   # total debit transactions for S1  # total debit transactions for S2  ...  \\\n",
              "0                                277                                265  ...   \n",
              "1                                 37                                 15  ...   \n",
              "2                                 31                                 14  ...   \n",
              "3                                  0                                  1  ...   \n",
              "4                                 15                                 33  ...   \n",
              "\n",
              "   total credit amount for S2  total credit amount for S3  total debit amount  \\\n",
              "0                  1764079.61                  2378592.62          4758311.63   \n",
              "1                    19500.00                    57500.00           139363.22   \n",
              "2                   240311.84                    70946.86            37375.46   \n",
              "3                    28089.99                    18753.92             4000.00   \n",
              "4                   176000.00                    70500.00           338470.29   \n",
              "\n",
              "   total debit transactions  total credit amount  total credit transactions  \\\n",
              "0                       887           5659653.33                         65   \n",
              "1                        97             87000.00                         10   \n",
              "2                        53           1020883.70                         27   \n",
              "3                         1             76946.96                         12   \n",
              "4                        60            442100.00                         21   \n",
              "\n",
              "   total transactions  CUS_Target   TAR_Desc  Status  \n",
              "0                 952        2231  EXECUTIVE  ACTIVE  \n",
              "1                 107        2223        LOW  ACTIVE  \n",
              "2                  80        2222      MIDLE  ACTIVE  \n",
              "3                  13        2223        LOW  ACTIVE  \n",
              "4                  81        2223        LOW  ACTIVE  \n",
              "\n",
              "[5 rows x 28 columns]"
            ],
            "text/html": [
              "\n",
              "  <div id=\"df-cdd52784-18f8-4736-a776-accf0fb58eb5\">\n",
              "    <div class=\"colab-df-container\">\n",
              "      <div>\n",
              "<style scoped>\n",
              "    .dataframe tbody tr th:only-of-type {\n",
              "        vertical-align: middle;\n",
              "    }\n",
              "\n",
              "    .dataframe tbody tr th {\n",
              "        vertical-align: top;\n",
              "    }\n",
              "\n",
              "    .dataframe thead th {\n",
              "        text-align: right;\n",
              "    }\n",
              "</style>\n",
              "<table border=\"1\" class=\"dataframe\">\n",
              "  <thead>\n",
              "    <tr style=\"text-align: right;\">\n",
              "      <th></th>\n",
              "      <th>CIF</th>\n",
              "      <th>CUS_DOB</th>\n",
              "      <th>AGE</th>\n",
              "      <th>CUS_Month_Income</th>\n",
              "      <th>CUS_Gender</th>\n",
              "      <th>CUS_Marital_Status</th>\n",
              "      <th>CUS_Customer_Since</th>\n",
              "      <th>YEARS_WITH_US</th>\n",
              "      <th># total debit transactions for S1</th>\n",
              "      <th># total debit transactions for S2</th>\n",
              "      <th>...</th>\n",
              "      <th>total credit amount for S2</th>\n",
              "      <th>total credit amount for S3</th>\n",
              "      <th>total debit amount</th>\n",
              "      <th>total debit transactions</th>\n",
              "      <th>total credit amount</th>\n",
              "      <th>total credit transactions</th>\n",
              "      <th>total transactions</th>\n",
              "      <th>CUS_Target</th>\n",
              "      <th>TAR_Desc</th>\n",
              "      <th>Status</th>\n",
              "    </tr>\n",
              "  </thead>\n",
              "  <tbody>\n",
              "    <tr>\n",
              "      <th>0</th>\n",
              "      <td>XXXXXX</td>\n",
              "      <td>Feb 13 1970 12:00AM</td>\n",
              "      <td>49</td>\n",
              "      <td>7116.64</td>\n",
              "      <td>MALE</td>\n",
              "      <td>MARRIED</td>\n",
              "      <td>1994-06-30</td>\n",
              "      <td>25</td>\n",
              "      <td>277</td>\n",
              "      <td>265</td>\n",
              "      <td>...</td>\n",
              "      <td>1764079.61</td>\n",
              "      <td>2378592.62</td>\n",
              "      <td>4758311.63</td>\n",
              "      <td>887</td>\n",
              "      <td>5659653.33</td>\n",
              "      <td>65</td>\n",
              "      <td>952</td>\n",
              "      <td>2231</td>\n",
              "      <td>EXECUTIVE</td>\n",
              "      <td>ACTIVE</td>\n",
              "    </tr>\n",
              "    <tr>\n",
              "      <th>1</th>\n",
              "      <td>XXXXXX</td>\n",
              "      <td>Sep 20 1973 12:00AM</td>\n",
              "      <td>46</td>\n",
              "      <td>1500000.00</td>\n",
              "      <td>FEMALE</td>\n",
              "      <td>SINGLE</td>\n",
              "      <td>2005-05-19</td>\n",
              "      <td>14</td>\n",
              "      <td>37</td>\n",
              "      <td>15</td>\n",
              "      <td>...</td>\n",
              "      <td>19500.00</td>\n",
              "      <td>57500.00</td>\n",
              "      <td>139363.22</td>\n",
              "      <td>97</td>\n",
              "      <td>87000.00</td>\n",
              "      <td>10</td>\n",
              "      <td>107</td>\n",
              "      <td>2223</td>\n",
              "      <td>LOW</td>\n",
              "      <td>ACTIVE</td>\n",
              "    </tr>\n",
              "    <tr>\n",
              "      <th>2</th>\n",
              "      <td>XXXXXX</td>\n",
              "      <td>Jul 18 1966 12:00AM</td>\n",
              "      <td>53</td>\n",
              "      <td>5000000.00</td>\n",
              "      <td>FEMALE</td>\n",
              "      <td>SINGLE</td>\n",
              "      <td>2005-05-20</td>\n",
              "      <td>14</td>\n",
              "      <td>31</td>\n",
              "      <td>14</td>\n",
              "      <td>...</td>\n",
              "      <td>240311.84</td>\n",
              "      <td>70946.86</td>\n",
              "      <td>37375.46</td>\n",
              "      <td>53</td>\n",
              "      <td>1020883.70</td>\n",
              "      <td>27</td>\n",
              "      <td>80</td>\n",
              "      <td>2222</td>\n",
              "      <td>MIDLE</td>\n",
              "      <td>ACTIVE</td>\n",
              "    </tr>\n",
              "    <tr>\n",
              "      <th>3</th>\n",
              "      <td>XXXXXX</td>\n",
              "      <td>Jan  9 2004 12:00AM</td>\n",
              "      <td>15</td>\n",
              "      <td>500.00</td>\n",
              "      <td>FEMALE</td>\n",
              "      <td>SINGLE</td>\n",
              "      <td>2005-05-20</td>\n",
              "      <td>14</td>\n",
              "      <td>0</td>\n",
              "      <td>1</td>\n",
              "      <td>...</td>\n",
              "      <td>28089.99</td>\n",
              "      <td>18753.92</td>\n",
              "      <td>4000.00</td>\n",
              "      <td>1</td>\n",
              "      <td>76946.96</td>\n",
              "      <td>12</td>\n",
              "      <td>13</td>\n",
              "      <td>2223</td>\n",
              "      <td>LOW</td>\n",
              "      <td>ACTIVE</td>\n",
              "    </tr>\n",
              "    <tr>\n",
              "      <th>4</th>\n",
              "      <td>XXXXXX</td>\n",
              "      <td>Mar  7 1971 12:00AM</td>\n",
              "      <td>48</td>\n",
              "      <td>9000000.00</td>\n",
              "      <td>FEMALE</td>\n",
              "      <td>SINGLE</td>\n",
              "      <td>2014-06-30</td>\n",
              "      <td>5</td>\n",
              "      <td>15</td>\n",
              "      <td>33</td>\n",
              "      <td>...</td>\n",
              "      <td>176000.00</td>\n",
              "      <td>70500.00</td>\n",
              "      <td>338470.29</td>\n",
              "      <td>60</td>\n",
              "      <td>442100.00</td>\n",
              "      <td>21</td>\n",
              "      <td>81</td>\n",
              "      <td>2223</td>\n",
              "      <td>LOW</td>\n",
              "      <td>ACTIVE</td>\n",
              "    </tr>\n",
              "  </tbody>\n",
              "</table>\n",
              "<p>5 rows × 28 columns</p>\n",
              "</div>\n",
              "      <button class=\"colab-df-convert\" onclick=\"convertToInteractive('df-cdd52784-18f8-4736-a776-accf0fb58eb5')\"\n",
              "              title=\"Convert this dataframe to an interactive table.\"\n",
              "              style=\"display:none;\">\n",
              "        \n",
              "  <svg xmlns=\"http://www.w3.org/2000/svg\" height=\"24px\"viewBox=\"0 0 24 24\"\n",
              "       width=\"24px\">\n",
              "    <path d=\"M0 0h24v24H0V0z\" fill=\"none\"/>\n",
              "    <path d=\"M18.56 5.44l.94 2.06.94-2.06 2.06-.94-2.06-.94-.94-2.06-.94 2.06-2.06.94zm-11 1L8.5 8.5l.94-2.06 2.06-.94-2.06-.94L8.5 2.5l-.94 2.06-2.06.94zm10 10l.94 2.06.94-2.06 2.06-.94-2.06-.94-.94-2.06-.94 2.06-2.06.94z\"/><path d=\"M17.41 7.96l-1.37-1.37c-.4-.4-.92-.59-1.43-.59-.52 0-1.04.2-1.43.59L10.3 9.45l-7.72 7.72c-.78.78-.78 2.05 0 2.83L4 21.41c.39.39.9.59 1.41.59.51 0 1.02-.2 1.41-.59l7.78-7.78 2.81-2.81c.8-.78.8-2.07 0-2.86zM5.41 20L4 18.59l7.72-7.72 1.47 1.35L5.41 20z\"/>\n",
              "  </svg>\n",
              "      </button>\n",
              "      \n",
              "  <style>\n",
              "    .colab-df-container {\n",
              "      display:flex;\n",
              "      flex-wrap:wrap;\n",
              "      gap: 12px;\n",
              "    }\n",
              "\n",
              "    .colab-df-convert {\n",
              "      background-color: #E8F0FE;\n",
              "      border: none;\n",
              "      border-radius: 50%;\n",
              "      cursor: pointer;\n",
              "      display: none;\n",
              "      fill: #1967D2;\n",
              "      height: 32px;\n",
              "      padding: 0 0 0 0;\n",
              "      width: 32px;\n",
              "    }\n",
              "\n",
              "    .colab-df-convert:hover {\n",
              "      background-color: #E2EBFA;\n",
              "      box-shadow: 0px 1px 2px rgba(60, 64, 67, 0.3), 0px 1px 3px 1px rgba(60, 64, 67, 0.15);\n",
              "      fill: #174EA6;\n",
              "    }\n",
              "\n",
              "    [theme=dark] .colab-df-convert {\n",
              "      background-color: #3B4455;\n",
              "      fill: #D2E3FC;\n",
              "    }\n",
              "\n",
              "    [theme=dark] .colab-df-convert:hover {\n",
              "      background-color: #434B5C;\n",
              "      box-shadow: 0px 1px 3px 1px rgba(0, 0, 0, 0.15);\n",
              "      filter: drop-shadow(0px 1px 2px rgba(0, 0, 0, 0.3));\n",
              "      fill: #FFFFFF;\n",
              "    }\n",
              "  </style>\n",
              "\n",
              "      <script>\n",
              "        const buttonEl =\n",
              "          document.querySelector('#df-cdd52784-18f8-4736-a776-accf0fb58eb5 button.colab-df-convert');\n",
              "        buttonEl.style.display =\n",
              "          google.colab.kernel.accessAllowed ? 'block' : 'none';\n",
              "\n",
              "        async function convertToInteractive(key) {\n",
              "          const element = document.querySelector('#df-cdd52784-18f8-4736-a776-accf0fb58eb5');\n",
              "          const dataTable =\n",
              "            await google.colab.kernel.invokeFunction('convertToInteractive',\n",
              "                                                     [key], {});\n",
              "          if (!dataTable) return;\n",
              "\n",
              "          const docLinkHtml = 'Like what you see? Visit the ' +\n",
              "            '<a target=\"_blank\" href=https://colab.research.google.com/notebooks/data_table.ipynb>data table notebook</a>'\n",
              "            + ' to learn more about interactive tables.';\n",
              "          element.innerHTML = '';\n",
              "          dataTable['output_type'] = 'display_data';\n",
              "          await google.colab.output.renderOutput(dataTable, element);\n",
              "          const docLink = document.createElement('div');\n",
              "          docLink.innerHTML = docLinkHtml;\n",
              "          element.appendChild(docLink);\n",
              "        }\n",
              "      </script>\n",
              "    </div>\n",
              "  </div>\n",
              "  "
            ]
          },
          "metadata": {},
          "execution_count": 3
        }
      ]
    },
    {
      "cell_type": "code",
      "source": [
        "# Seeing last 5 rows and columns\n",
        "bank.tail()"
      ],
      "metadata": {
        "colab": {
          "base_uri": "https://localhost:8080/",
          "height": 525
        },
        "id": "GQWgqWxMRWYk",
        "outputId": "6c87eea9-4705-41a3-fae1-a0cdb3e08fe8"
      },
      "execution_count": null,
      "outputs": [
        {
          "output_type": "execute_result",
          "data": {
            "text/plain": [
              "         CIF              CUS_DOB  AGE  CUS_Month_Income CUS_Gender  \\\n",
              "1244  XXXXXX  Sep 10 1951 12:00AM   68            4500.0       MALE   \n",
              "1245  XXXXXX  Mar 23 1984 12:00AM   35         3500000.0       MALE   \n",
              "1246  XXXXXX  Feb  4 1985 12:00AM   34            1000.0       MALE   \n",
              "1247  XXXXXX  Feb  3 1950 12:00AM   69         2000000.0       MALE   \n",
              "1248  XXXXXX  Feb 23 1961 12:00AM   58         5000000.0     FEMALE   \n",
              "\n",
              "     CUS_Marital_Status CUS_Customer_Since  YEARS_WITH_US  \\\n",
              "1244             SINGLE         2005-07-25             14   \n",
              "1245             SINGLE         2005-07-27             14   \n",
              "1246             SINGLE         2005-07-25             14   \n",
              "1247             SINGLE         2005-07-26             14   \n",
              "1248             SINGLE         2005-07-26             14   \n",
              "\n",
              "      # total debit transactions for S1  # total debit transactions for S2  \\\n",
              "1244                                 13                                 12   \n",
              "1245                                 55                                 35   \n",
              "1246                                415                                368   \n",
              "1247                                147                                202   \n",
              "1248                                 76                                 88   \n",
              "\n",
              "      ...  total credit amount for S2  total credit amount for S3  \\\n",
              "1244  ...                        0.00                        0.00   \n",
              "1245  ...                   119137.62                   440891.65   \n",
              "1246  ...                   733658.65                   971555.27   \n",
              "1247  ...                   532708.75                   400814.60   \n",
              "1248  ...                   422000.00                   214350.00   \n",
              "\n",
              "      total debit amount  total debit transactions  total credit amount  \\\n",
              "1244             5645.60                        26                 0.00   \n",
              "1245           385735.90                       127            674630.41   \n",
              "1246          2473621.68                      1207           2641348.01   \n",
              "1247          1371852.22                       583           1310768.35   \n",
              "1248           761827.91                       233            666850.00   \n",
              "\n",
              "      total credit transactions  total transactions  CUS_Target  TAR_Desc  \\\n",
              "1244                          0                  26        2223       LOW   \n",
              "1245                         22                 149        2222     MIDLE   \n",
              "1246                        217                1424        2232     MIDLE   \n",
              "1247                         48                 631        2222     MIDLE   \n",
              "1248                         37                 270        2222     MIDLE   \n",
              "\n",
              "      Status  \n",
              "1244   CHURN  \n",
              "1245  ACTIVE  \n",
              "1246  ACTIVE  \n",
              "1247  ACTIVE  \n",
              "1248  ACTIVE  \n",
              "\n",
              "[5 rows x 28 columns]"
            ],
            "text/html": [
              "\n",
              "  <div id=\"df-16839f95-415b-4523-9df1-3193718c6a07\">\n",
              "    <div class=\"colab-df-container\">\n",
              "      <div>\n",
              "<style scoped>\n",
              "    .dataframe tbody tr th:only-of-type {\n",
              "        vertical-align: middle;\n",
              "    }\n",
              "\n",
              "    .dataframe tbody tr th {\n",
              "        vertical-align: top;\n",
              "    }\n",
              "\n",
              "    .dataframe thead th {\n",
              "        text-align: right;\n",
              "    }\n",
              "</style>\n",
              "<table border=\"1\" class=\"dataframe\">\n",
              "  <thead>\n",
              "    <tr style=\"text-align: right;\">\n",
              "      <th></th>\n",
              "      <th>CIF</th>\n",
              "      <th>CUS_DOB</th>\n",
              "      <th>AGE</th>\n",
              "      <th>CUS_Month_Income</th>\n",
              "      <th>CUS_Gender</th>\n",
              "      <th>CUS_Marital_Status</th>\n",
              "      <th>CUS_Customer_Since</th>\n",
              "      <th>YEARS_WITH_US</th>\n",
              "      <th># total debit transactions for S1</th>\n",
              "      <th># total debit transactions for S2</th>\n",
              "      <th>...</th>\n",
              "      <th>total credit amount for S2</th>\n",
              "      <th>total credit amount for S3</th>\n",
              "      <th>total debit amount</th>\n",
              "      <th>total debit transactions</th>\n",
              "      <th>total credit amount</th>\n",
              "      <th>total credit transactions</th>\n",
              "      <th>total transactions</th>\n",
              "      <th>CUS_Target</th>\n",
              "      <th>TAR_Desc</th>\n",
              "      <th>Status</th>\n",
              "    </tr>\n",
              "  </thead>\n",
              "  <tbody>\n",
              "    <tr>\n",
              "      <th>1244</th>\n",
              "      <td>XXXXXX</td>\n",
              "      <td>Sep 10 1951 12:00AM</td>\n",
              "      <td>68</td>\n",
              "      <td>4500.0</td>\n",
              "      <td>MALE</td>\n",
              "      <td>SINGLE</td>\n",
              "      <td>2005-07-25</td>\n",
              "      <td>14</td>\n",
              "      <td>13</td>\n",
              "      <td>12</td>\n",
              "      <td>...</td>\n",
              "      <td>0.00</td>\n",
              "      <td>0.00</td>\n",
              "      <td>5645.60</td>\n",
              "      <td>26</td>\n",
              "      <td>0.00</td>\n",
              "      <td>0</td>\n",
              "      <td>26</td>\n",
              "      <td>2223</td>\n",
              "      <td>LOW</td>\n",
              "      <td>CHURN</td>\n",
              "    </tr>\n",
              "    <tr>\n",
              "      <th>1245</th>\n",
              "      <td>XXXXXX</td>\n",
              "      <td>Mar 23 1984 12:00AM</td>\n",
              "      <td>35</td>\n",
              "      <td>3500000.0</td>\n",
              "      <td>MALE</td>\n",
              "      <td>SINGLE</td>\n",
              "      <td>2005-07-27</td>\n",
              "      <td>14</td>\n",
              "      <td>55</td>\n",
              "      <td>35</td>\n",
              "      <td>...</td>\n",
              "      <td>119137.62</td>\n",
              "      <td>440891.65</td>\n",
              "      <td>385735.90</td>\n",
              "      <td>127</td>\n",
              "      <td>674630.41</td>\n",
              "      <td>22</td>\n",
              "      <td>149</td>\n",
              "      <td>2222</td>\n",
              "      <td>MIDLE</td>\n",
              "      <td>ACTIVE</td>\n",
              "    </tr>\n",
              "    <tr>\n",
              "      <th>1246</th>\n",
              "      <td>XXXXXX</td>\n",
              "      <td>Feb  4 1985 12:00AM</td>\n",
              "      <td>34</td>\n",
              "      <td>1000.0</td>\n",
              "      <td>MALE</td>\n",
              "      <td>SINGLE</td>\n",
              "      <td>2005-07-25</td>\n",
              "      <td>14</td>\n",
              "      <td>415</td>\n",
              "      <td>368</td>\n",
              "      <td>...</td>\n",
              "      <td>733658.65</td>\n",
              "      <td>971555.27</td>\n",
              "      <td>2473621.68</td>\n",
              "      <td>1207</td>\n",
              "      <td>2641348.01</td>\n",
              "      <td>217</td>\n",
              "      <td>1424</td>\n",
              "      <td>2232</td>\n",
              "      <td>MIDLE</td>\n",
              "      <td>ACTIVE</td>\n",
              "    </tr>\n",
              "    <tr>\n",
              "      <th>1247</th>\n",
              "      <td>XXXXXX</td>\n",
              "      <td>Feb  3 1950 12:00AM</td>\n",
              "      <td>69</td>\n",
              "      <td>2000000.0</td>\n",
              "      <td>MALE</td>\n",
              "      <td>SINGLE</td>\n",
              "      <td>2005-07-26</td>\n",
              "      <td>14</td>\n",
              "      <td>147</td>\n",
              "      <td>202</td>\n",
              "      <td>...</td>\n",
              "      <td>532708.75</td>\n",
              "      <td>400814.60</td>\n",
              "      <td>1371852.22</td>\n",
              "      <td>583</td>\n",
              "      <td>1310768.35</td>\n",
              "      <td>48</td>\n",
              "      <td>631</td>\n",
              "      <td>2222</td>\n",
              "      <td>MIDLE</td>\n",
              "      <td>ACTIVE</td>\n",
              "    </tr>\n",
              "    <tr>\n",
              "      <th>1248</th>\n",
              "      <td>XXXXXX</td>\n",
              "      <td>Feb 23 1961 12:00AM</td>\n",
              "      <td>58</td>\n",
              "      <td>5000000.0</td>\n",
              "      <td>FEMALE</td>\n",
              "      <td>SINGLE</td>\n",
              "      <td>2005-07-26</td>\n",
              "      <td>14</td>\n",
              "      <td>76</td>\n",
              "      <td>88</td>\n",
              "      <td>...</td>\n",
              "      <td>422000.00</td>\n",
              "      <td>214350.00</td>\n",
              "      <td>761827.91</td>\n",
              "      <td>233</td>\n",
              "      <td>666850.00</td>\n",
              "      <td>37</td>\n",
              "      <td>270</td>\n",
              "      <td>2222</td>\n",
              "      <td>MIDLE</td>\n",
              "      <td>ACTIVE</td>\n",
              "    </tr>\n",
              "  </tbody>\n",
              "</table>\n",
              "<p>5 rows × 28 columns</p>\n",
              "</div>\n",
              "      <button class=\"colab-df-convert\" onclick=\"convertToInteractive('df-16839f95-415b-4523-9df1-3193718c6a07')\"\n",
              "              title=\"Convert this dataframe to an interactive table.\"\n",
              "              style=\"display:none;\">\n",
              "        \n",
              "  <svg xmlns=\"http://www.w3.org/2000/svg\" height=\"24px\"viewBox=\"0 0 24 24\"\n",
              "       width=\"24px\">\n",
              "    <path d=\"M0 0h24v24H0V0z\" fill=\"none\"/>\n",
              "    <path d=\"M18.56 5.44l.94 2.06.94-2.06 2.06-.94-2.06-.94-.94-2.06-.94 2.06-2.06.94zm-11 1L8.5 8.5l.94-2.06 2.06-.94-2.06-.94L8.5 2.5l-.94 2.06-2.06.94zm10 10l.94 2.06.94-2.06 2.06-.94-2.06-.94-.94-2.06-.94 2.06-2.06.94z\"/><path d=\"M17.41 7.96l-1.37-1.37c-.4-.4-.92-.59-1.43-.59-.52 0-1.04.2-1.43.59L10.3 9.45l-7.72 7.72c-.78.78-.78 2.05 0 2.83L4 21.41c.39.39.9.59 1.41.59.51 0 1.02-.2 1.41-.59l7.78-7.78 2.81-2.81c.8-.78.8-2.07 0-2.86zM5.41 20L4 18.59l7.72-7.72 1.47 1.35L5.41 20z\"/>\n",
              "  </svg>\n",
              "      </button>\n",
              "      \n",
              "  <style>\n",
              "    .colab-df-container {\n",
              "      display:flex;\n",
              "      flex-wrap:wrap;\n",
              "      gap: 12px;\n",
              "    }\n",
              "\n",
              "    .colab-df-convert {\n",
              "      background-color: #E8F0FE;\n",
              "      border: none;\n",
              "      border-radius: 50%;\n",
              "      cursor: pointer;\n",
              "      display: none;\n",
              "      fill: #1967D2;\n",
              "      height: 32px;\n",
              "      padding: 0 0 0 0;\n",
              "      width: 32px;\n",
              "    }\n",
              "\n",
              "    .colab-df-convert:hover {\n",
              "      background-color: #E2EBFA;\n",
              "      box-shadow: 0px 1px 2px rgba(60, 64, 67, 0.3), 0px 1px 3px 1px rgba(60, 64, 67, 0.15);\n",
              "      fill: #174EA6;\n",
              "    }\n",
              "\n",
              "    [theme=dark] .colab-df-convert {\n",
              "      background-color: #3B4455;\n",
              "      fill: #D2E3FC;\n",
              "    }\n",
              "\n",
              "    [theme=dark] .colab-df-convert:hover {\n",
              "      background-color: #434B5C;\n",
              "      box-shadow: 0px 1px 3px 1px rgba(0, 0, 0, 0.15);\n",
              "      filter: drop-shadow(0px 1px 2px rgba(0, 0, 0, 0.3));\n",
              "      fill: #FFFFFF;\n",
              "    }\n",
              "  </style>\n",
              "\n",
              "      <script>\n",
              "        const buttonEl =\n",
              "          document.querySelector('#df-16839f95-415b-4523-9df1-3193718c6a07 button.colab-df-convert');\n",
              "        buttonEl.style.display =\n",
              "          google.colab.kernel.accessAllowed ? 'block' : 'none';\n",
              "\n",
              "        async function convertToInteractive(key) {\n",
              "          const element = document.querySelector('#df-16839f95-415b-4523-9df1-3193718c6a07');\n",
              "          const dataTable =\n",
              "            await google.colab.kernel.invokeFunction('convertToInteractive',\n",
              "                                                     [key], {});\n",
              "          if (!dataTable) return;\n",
              "\n",
              "          const docLinkHtml = 'Like what you see? Visit the ' +\n",
              "            '<a target=\"_blank\" href=https://colab.research.google.com/notebooks/data_table.ipynb>data table notebook</a>'\n",
              "            + ' to learn more about interactive tables.';\n",
              "          element.innerHTML = '';\n",
              "          dataTable['output_type'] = 'display_data';\n",
              "          await google.colab.output.renderOutput(dataTable, element);\n",
              "          const docLink = document.createElement('div');\n",
              "          docLink.innerHTML = docLinkHtml;\n",
              "          element.appendChild(docLink);\n",
              "        }\n",
              "      </script>\n",
              "    </div>\n",
              "  </div>\n",
              "  "
            ]
          },
          "metadata": {},
          "execution_count": 4
        }
      ]
    },
    {
      "cell_type": "code",
      "source": [
        "bank.info()"
      ],
      "metadata": {
        "colab": {
          "base_uri": "https://localhost:8080/"
        },
        "id": "fGQ67fir-JHN",
        "outputId": "a9c879cb-bdbf-4097-c8d1-770c3c27e7ca"
      },
      "execution_count": null,
      "outputs": [
        {
          "output_type": "stream",
          "name": "stdout",
          "text": [
            "<class 'pandas.core.frame.DataFrame'>\n",
            "RangeIndex: 1249 entries, 0 to 1248\n",
            "Data columns (total 28 columns):\n",
            " #   Column                              Non-Null Count  Dtype         \n",
            "---  ------                              --------------  -----         \n",
            " 0   CIF                                 1249 non-null   object        \n",
            " 1   CUS_DOB                             1249 non-null   object        \n",
            " 2   AGE                                 1249 non-null   int64         \n",
            " 3   CUS_Month_Income                    1238 non-null   float64       \n",
            " 4   CUS_Gender                          1247 non-null   object        \n",
            " 5   CUS_Marital_Status                  1249 non-null   object        \n",
            " 6   CUS_Customer_Since                  1249 non-null   datetime64[ns]\n",
            " 7   YEARS_WITH_US                       1249 non-null   int64         \n",
            " 8   # total debit transactions for S1   1249 non-null   int64         \n",
            " 9   # total debit transactions for S2   1249 non-null   int64         \n",
            " 10  # total debit transactions for S3   1249 non-null   int64         \n",
            " 11  total debit amount for S1           1249 non-null   float64       \n",
            " 12  total debit amount for S2           1249 non-null   float64       \n",
            " 13  total debit amount for S3           1249 non-null   float64       \n",
            " 14  # total credit transactions for S1  1249 non-null   int64         \n",
            " 15  # total credit transactions for S2  1249 non-null   int64         \n",
            " 16  # total credit transactions for S3  1249 non-null   int64         \n",
            " 17  total credit amount for S1          1249 non-null   float64       \n",
            " 18  total credit amount for S2          1249 non-null   float64       \n",
            " 19  total credit amount for S3          1249 non-null   float64       \n",
            " 20  total debit amount                  1249 non-null   float64       \n",
            " 21  total debit transactions            1249 non-null   int64         \n",
            " 22  total credit amount                 1249 non-null   float64       \n",
            " 23  total credit transactions           1249 non-null   int64         \n",
            " 24  total transactions                  1249 non-null   int64         \n",
            " 25  CUS_Target                          1249 non-null   int64         \n",
            " 26  TAR_Desc                            1249 non-null   object        \n",
            " 27  Status                              1249 non-null   object        \n",
            "dtypes: datetime64[ns](1), float64(9), int64(12), object(6)\n",
            "memory usage: 273.3+ KB\n"
          ]
        }
      ]
    },
    {
      "cell_type": "code",
      "source": [
        "bank.columns.unique()"
      ],
      "metadata": {
        "colab": {
          "base_uri": "https://localhost:8080/"
        },
        "id": "UrLBy9zyNG54",
        "outputId": "f88625d0-281f-4061-ae9f-a8e212cd422e"
      },
      "execution_count": null,
      "outputs": [
        {
          "output_type": "execute_result",
          "data": {
            "text/plain": [
              "Index(['CIF', 'CUS_DOB', 'AGE', 'CUS_Month_Income', 'CUS_Gender',\n",
              "       'CUS_Marital_Status', 'CUS_Customer_Since', 'YEARS_WITH_US',\n",
              "       '# total debit transactions for S1',\n",
              "       '# total debit transactions for S2',\n",
              "       '# total debit transactions for S3', 'total debit amount for S1',\n",
              "       'total debit amount for S2', 'total debit amount for S3',\n",
              "       '# total credit transactions for S1',\n",
              "       '# total credit transactions for S2',\n",
              "       '# total credit transactions for S3', 'total credit amount for S1',\n",
              "       'total credit amount for S2', 'total credit amount for S3',\n",
              "       'total debit amount', 'total debit transactions', 'total credit amount',\n",
              "       'total credit transactions', 'total transactions', 'CUS_Target',\n",
              "       'TAR_Desc', 'Status'],\n",
              "      dtype='object')"
            ]
          },
          "metadata": {},
          "execution_count": 6
        }
      ]
    },
    {
      "cell_type": "markdown",
      "source": [
        "# Exploratory data analysis"
      ],
      "metadata": {
        "id": "MN2x0myODbly"
      }
    },
    {
      "cell_type": "code",
      "source": [
        "plt.figure(figsize=(6, 6))\n",
        "sns.countplot(data=bank, x=\"CUS_Gender\", hue=\"Status\")\n",
        "plt.show()"
      ],
      "metadata": {
        "colab": {
          "base_uri": "https://localhost:8080/",
          "height": 389
        },
        "id": "mHcah15I-Im9",
        "outputId": "1f7a2a80-a381-449a-b1f6-a447abfd8ce1"
      },
      "execution_count": null,
      "outputs": [
        {
          "output_type": "display_data",
          "data": {
            "text/plain": [
              "<Figure size 432x432 with 1 Axes>"
            ],
            "image/png": "[encoded data removed]"
          },
          "metadata": {
            "needs_background": "light"
          }
        }
      ]
    },
    {
      "cell_type": "code",
      "source": [
        "plt.figure(figsize=(6, 6), dpi=90)\n",
        "sns.displot(bank[\"AGE\"], aspect=1.5)\n",
        "plt.show()"
      ],
      "metadata": {
        "colab": {
          "base_uri": "https://localhost:8080/",
          "height": 386
        },
        "id": "yKJNI6YFBLsH",
        "outputId": "28911992-3f0b-4b8a-98e5-21fcc98fad91"
      },
      "execution_count": null,
      "outputs": [
        {
          "output_type": "display_data",
          "data": {
            "text/plain": [
              "<Figure size 540x540 with 0 Axes>"
            ]
          },
          "metadata": {}
        },
        {
          "output_type": "display_data",
          "data": {
            "text/plain": [
              "<Figure size 540x360 with 1 Axes>"
            ],
            "image/png": "[encoded data removed]"
          },
          "metadata": {
            "needs_background": "light"
          }
        }
      ]
    },
    {
      "cell_type": "code",
      "source": [
        "plt.figure(figsize=(6, 6), dpi=90)\n",
        "sns.countplot(data=bank, x=\"CUS_Marital_Status\", hue=\"Status\")\n",
        "plt.show()"
      ],
      "metadata": {
        "colab": {
          "base_uri": "https://localhost:8080/",
          "height": 482
        },
        "id": "mNhQrb-yBL4F",
        "outputId": "918757e6-d40f-43dd-ed8d-ede7a2032f53"
      },
      "execution_count": null,
      "outputs": [
        {
          "output_type": "display_data",
          "data": {
            "text/plain": [
              "<Figure size 540x540 with 1 Axes>"
            ],
            "image/png": "[encoded data removed]"
          },
          "metadata": {
            "needs_background": "light"
          }
        }
      ]
    },
    {
      "cell_type": "code",
      "source": [
        "plt.figure(figsize=(6, 6), dpi=90)\n",
        "sns.countplot(data=bank, x=\"TAR_Desc\", hue=\"Status\")\n",
        "plt.show()"
      ],
      "metadata": {
        "colab": {
          "base_uri": "https://localhost:8080/",
          "height": 482
        },
        "id": "BD7LsMVTEBRf",
        "outputId": "1b79b279-0d15-4f08-f3bc-9be2d5aec306"
      },
      "execution_count": null,
      "outputs": [
        {
          "output_type": "display_data",
          "data": {
            "text/plain": [
              "<Figure size 540x540 with 1 Axes>"
            ],
            "image/png": "[encoded data removed]"
          },
          "metadata": {
            "needs_background": "light"
          }
        }
      ]
    },
    {
      "cell_type": "code",
      "source": [
        "sns.catplot(data=bank, x=\"YEARS_WITH_US\", y=\"TAR_Desc\", kind=\"bar\", hue=\"Status\", aspect=1.5)\n",
        "plt.show()"
      ],
      "metadata": {
        "colab": {
          "base_uri": "https://localhost:8080/",
          "height": 369
        },
        "id": "kUXUaC2ZHZJx",
        "outputId": "ea61b676-07b8-48e2-9122-74c1cd266e78"
      },
      "execution_count": null,
      "outputs": [
        {
          "output_type": "display_data",
          "data": {
            "text/plain": [
              "<Figure size 612.125x360 with 1 Axes>"
            ],
            "image/png": "[encoded data removed]"
          },
          "metadata": {
            "needs_background": "light"
          }
        }
      ]
    },
    {
      "cell_type": "code",
      "source": [
        "# function for trans_Debit and trans_Credict\n",
        "def hist(arr):\n",
        "    for i in arr:\n",
        "        sns.displot(bank[i], aspect=1.5)\n",
        "        plt.show()"
      ],
      "metadata": {
        "id": "LqrV2eS6EdiL"
      },
      "execution_count": null,
      "outputs": []
    },
    {
      "cell_type": "code",
      "source": [
        "trans_debit = ['# total debit transactions for S1','# total debit transactions for S2','# total debit transactions for S3']\n",
        "total_debit = ['total debit amount for S1','total debit amount for S2', 'total debit amount for S3']\n",
        "trans_credit = ['# total credit transactions for S1','# total credit transactions for S2','# total credit transactions for S3']\n",
        "total_credit = ['total credit amount for S1','total credit amount for S2', 'total credit amount for S3']"
      ],
      "metadata": {
        "id": "zFH6nUW_GvK9"
      },
      "execution_count": null,
      "outputs": []
    },
    {
      "cell_type": "code",
      "source": [
        "# Transaction debit for s1/s2/s3\n",
        "hist(trans_debit)"
      ],
      "metadata": {
        "colab": {
          "base_uri": "https://localhost:8080/",
          "height": 1000
        },
        "id": "mkpkf1y7EdmR",
        "outputId": "3a63e1f6-287d-4d03-8e2d-76a8dedab33d"
      },
      "execution_count": null,
      "outputs": [
        {
          "output_type": "display_data",
          "data": {
            "text/plain": [
              "<Figure size 540x360 with 1 Axes>"
            ],
            "image/png": "[encoded data removed]"
          },
          "metadata": {
            "needs_background": "light"
          }
        },
        {
          "output_type": "display_data",
          "data": {
            "text/plain": [
              "<Figure size 540x360 with 1 Axes>"
            ],
            "image/png": "[encoded data removed]"
          },
          "metadata": {
            "needs_background": "light"
          }
        },
        {
          "output_type": "display_data",
          "data": {
            "text/plain": [
              "<Figure size 540x360 with 1 Axes>"
            ],
            "image/png": "[encoded data removed]"
          },
          "metadata": {
            "needs_background": "light"
          }
        }
      ]
    },
    {
      "cell_type": "code",
      "source": [
        "# Transaction Credit for s1/s2/s3\n",
        "hist(trans_credit)"
      ],
      "metadata": {
        "colab": {
          "base_uri": "https://localhost:8080/",
          "height": 1000
        },
        "id": "WrWfupF-EBTy",
        "outputId": "ad65ca70-dc0a-44f7-8a5e-9741730df455"
      },
      "execution_count": null,
      "outputs": [
        {
          "output_type": "display_data",
          "data": {
            "text/plain": [
              "<Figure size 540x360 with 1 Axes>"
            ],
            "image/png": "[encoded data removed]"
          },
          "metadata": {
            "needs_background": "light"
          }
        },
        {
          "output_type": "display_data",
          "data": {
            "text/plain": [
              "<Figure size 540x360 with 1 Axes>"
            ],
            "image/png": "[encoded data removed]"
          },
          "metadata": {
            "needs_background": "light"
          }
        },
        {
          "output_type": "display_data",
          "data": {
            "text/plain": [
              "<Figure size 540x360 with 1 Axes>"
            ],
            "image/png": "[encoded data removed]"
          },
          "metadata": {
            "needs_background": "light"
          }
        }
      ]
    },
    {
      "cell_type": "code",
      "source": [
        "# Converted the DOB to datetime format and set the customers year\n",
        "bank[\"CUS_birth_year\"] = pd.to_datetime(bank[\"CUS_DOB\"]).dt.year"
      ],
      "metadata": {
        "id": "Ov-ilctR-tPN"
      },
      "execution_count": null,
      "outputs": []
    },
    {
      "cell_type": "code",
      "source": [
        "bank[\"CUS_birth_year\"].max()"
      ],
      "metadata": {
        "colab": {
          "base_uri": "https://localhost:8080/"
        },
        "id": "t4M4J6jW-9S7",
        "outputId": "f26ed13e-2905-406e-f382-2d4c1f136ba9"
      },
      "execution_count": null,
      "outputs": [
        {
          "output_type": "execute_result",
          "data": {
            "text/plain": [
              "2005"
            ]
          },
          "metadata": {},
          "execution_count": 17
        }
      ]
    },
    {
      "cell_type": "code",
      "source": [
        "bank[\"CUS_birth_year\"].min()"
      ],
      "metadata": {
        "colab": {
          "base_uri": "https://localhost:8080/"
        },
        "id": "vr5-I_BX_ExL",
        "outputId": "2162bf01-fa4a-4fde-fbfa-6301f451f1a0"
      },
      "execution_count": null,
      "outputs": [
        {
          "output_type": "execute_result",
          "data": {
            "text/plain": [
              "1900"
            ]
          },
          "metadata": {},
          "execution_count": 18
        }
      ]
    },
    {
      "cell_type": "code",
      "source": [
        "# plt.figure(figsize=(6, 6), dpi=90)\n",
        "sns.displot(data=bank, x=\"CUS_birth_year\", hue=\"Status\", aspect=1.5, multiple=\"stack\")\n",
        "plt.xticks([1900, 1930, 1960, 1990, 2005])\n",
        "plt.show()"
      ],
      "metadata": {
        "colab": {
          "base_uri": "https://localhost:8080/",
          "height": 369
        },
        "id": "A1ofK0xCJ52N",
        "outputId": "5794a37a-3a14-4705-b29e-1296d63b34b1"
      },
      "execution_count": null,
      "outputs": [
        {
          "output_type": "display_data",
          "data": {
            "text/plain": [
              "<Figure size 612.125x360 with 1 Axes>"
            ],
            "image/png": "[encoded data removed]"
          },
          "metadata": {
            "needs_background": "light"
          }
        }
      ]
    },
    {
      "cell_type": "code",
      "source": [
        "# Finding unique value count\n",
        "bank.value_counts()"
      ],
      "metadata": {
        "colab": {
          "base_uri": "https://localhost:8080/"
        },
        "id": "IVBFQJDLRnqX",
        "outputId": "f5233c4c-df54-45ba-d603-bef824142c0b"
      },
      "execution_count": null,
      "outputs": [
        {
          "output_type": "execute_result",
          "data": {
            "text/plain": [
              "CIF     CUS_DOB              AGE  CUS_Month_Income  CUS_Gender  CUS_Marital_Status  CUS_Customer_Since  YEARS_WITH_US  # total debit transactions for S1  # total debit transactions for S2  # total debit transactions for S3  total debit amount for S1  total debit amount for S2  total debit amount for S3  # total credit transactions for S1  # total credit transactions for S2  # total credit transactions for S3  total credit amount for S1  total credit amount for S2  total credit amount for S3  total debit amount  total debit transactions  total credit amount  total credit transactions  total transactions  CUS_Target  TAR_Desc  Status  CUS_birth_year\n",
              "XXXXXX  Apr  2 1958 12:00AM  61   8000000.0         MALE        SINGLE              2005-05-27          14             7                                  0                                  0                                  3843.60                    0.00                       0.00                       1                                   0                                   0                                   4000.00                     0.00                        0.00                        3843.60             7                         4000.00              1                          8                   2223        LOW       CHURN   1958              1\n",
              "        Mar 20 1980 12:00AM  39   2831666.0         FEMALE      SINGLE              2005-08-31          14             17                                 11                                 10                                 36985.81                   35223.60                   74460.00                   0                                   1                                   0                                   0.00                        5000.00                     0.00                        146669.41           38                        5000.00              1                          39                  2223        LOW       ACTIVE  1980              1\n",
              "        Mar 23 1967 12:00AM  52   2000000.0         MALE        SINGLE              2005-11-23          14             18                                 9                                  12                                 22321.72                   11268.12                   27361.70                   5                                   5                                   12                                  37734.91                    16613.14                    32585.40                    60951.54            39                        86933.45             22                         61                  2223        LOW       ACTIVE  1967              1\n",
              "        Mar 22 1988 12:00AM  31   1000000.0         MALE        MARRIED             2005-05-25          14             66                                 93                                 66                                 126831.32                  158272.94                  186579.28                  6                                   7                                   9                                   138225.52                   167781.24                   169765.90                   471683.54           225                       475772.66            22                         247                 2223        LOW       ACTIVE  1988              1\n",
              "        Mar 22 1965 12:00AM  54   5000000.0         FEMALE      SINGLE              2006-01-24          13             0                                  96                                 60                                 0.00                       84329.65                   46857.76                   0                                   7                                   5                                   0.00                        80400.00                    31250.00                    131187.41           156                       111650.00            12                         168                 2222        MIDLE     ACTIVE  1965              1\n",
              "                                                                                                                                                                                                                                                                                                                                                                                                                                                                                                                                                                                                                                                                                  ..\n",
              "        Jan  1 1958 12:00AM  61   1907506.0         MALE        SINGLE              2005-08-31          14             4                                  1                                  0                                  6350.00                    1900.00                    0.00                       2                                   1                                   0                                   3298.25                     1914.23                     0.00                        8250.00             5                         5212.48              3                          8                   2223        LOW       CHURN   1958              1\n",
              "        Jan  1 1955 12:00AM  64   1000000.0         FEMALE      MARRIED             2005-06-21          14             54                                 80                                 119                                134626.35                  132719.35                  156334.10                  5                                   6                                   7                                   141407.16                   137694.27                   157270.00                   423679.80           253                       436371.43            18                         271                 2223        LOW       ACTIVE  1955              1\n",
              "        Jan  1 1954 12:00AM  65   2500.0            FEMALE      MARRIED             2005-07-18          14             17                                 23                                 22                                 44600.00                   52800.00                   49000.00                   7                                   8                                   7                                   45649.34                    51677.28                    48687.89                    146400.00           62                        146014.51            22                         84                  2223        LOW       ACTIVE  1954              1\n",
              "        Jan  1 1953 12:00AM  66   2500.0            MALE        SINGLE              2005-07-16          14             4                                  0                                  0                                  6493.60                    0.00                       0.00                       2                                   0                                   0                                   10980.58                    0.00                        0.00                        6493.60             4                         10980.58             2                          6                   2223        LOW       CHURN   1953              1\n",
              "        Sep 30 1977 12:00AM  42   390.0             FEMALE      SINGLE              2005-07-20          14             0                                  3                                  3                                  0.00                       4500.00                    6000.00                    0                                   0                                   0                                   0.00                        0.00                        0.00                        10500.00            6                         0.00                 0                          6                   2223        LOW       ACTIVE  1977              1\n",
              "Length: 1238, dtype: int64"
            ]
          },
          "metadata": {},
          "execution_count": 20
        }
      ]
    },
    {
      "cell_type": "markdown",
      "source": [
        "###Datacleaning"
      ],
      "metadata": {
        "id": "wODy9SI42P1e"
      }
    },
    {
      "cell_type": "code",
      "source": [
        "#Deleting the column which is not useful\n",
        "del bank[\"CIF\"]"
      ],
      "metadata": {
        "id": "bK9QVsC6TXFO"
      },
      "execution_count": null,
      "outputs": []
    },
    {
      "cell_type": "code",
      "source": [
        "# Checking for duplicate rows\n",
        "print(\"number of duplicates:\", bank.duplicated().sum())"
      ],
      "metadata": {
        "colab": {
          "base_uri": "https://localhost:8080/"
        },
        "id": "SrZvNLYf_VYC",
        "outputId": "d7c62b25-5175-4212-e1c8-4ff0bf8636b3"
      },
      "execution_count": null,
      "outputs": [
        {
          "output_type": "stream",
          "name": "stdout",
          "text": [
            "number of duplicates: 0\n"
          ]
        }
      ]
    },
    {
      "cell_type": "code",
      "source": [
        "print(bank.isnull().sum())"
      ],
      "metadata": {
        "colab": {
          "base_uri": "https://localhost:8080/"
        },
        "id": "qZmnXtauAeKv",
        "outputId": "c765136a-3906-4015-b574-8ea04d3f7d6e"
      },
      "execution_count": null,
      "outputs": [
        {
          "output_type": "stream",
          "name": "stdout",
          "text": [
            "CUS_DOB                                0\n",
            "AGE                                    0\n",
            "CUS_Month_Income                      11\n",
            "CUS_Gender                             2\n",
            "CUS_Marital_Status                     0\n",
            "CUS_Customer_Since                     0\n",
            "YEARS_WITH_US                          0\n",
            "# total debit transactions for S1      0\n",
            "# total debit transactions for S2      0\n",
            "# total debit transactions for S3      0\n",
            "total debit amount for S1              0\n",
            "total debit amount for S2              0\n",
            "total debit amount for S3              0\n",
            "# total credit transactions for S1     0\n",
            "# total credit transactions for S2     0\n",
            "# total credit transactions for S3     0\n",
            "total credit amount for S1             0\n",
            "total credit amount for S2             0\n",
            "total credit amount for S3             0\n",
            "total debit amount                     0\n",
            "total debit transactions               0\n",
            "total credit amount                    0\n",
            "total credit transactions              0\n",
            "total transactions                     0\n",
            "CUS_Target                             0\n",
            "TAR_Desc                               0\n",
            "Status                                 0\n",
            "CUS_birth_year                         0\n",
            "dtype: int64\n"
          ]
        }
      ]
    },
    {
      "cell_type": "code",
      "source": [
        "# Dropping np.nan values\n",
        "bank.dropna(inplace=True)"
      ],
      "metadata": {
        "id": "0_7g99kdAKdA"
      },
      "execution_count": null,
      "outputs": []
    },
    {
      "cell_type": "code",
      "source": [
        "print(bank.isnull().sum())"
      ],
      "metadata": {
        "colab": {
          "base_uri": "https://localhost:8080/"
        },
        "id": "q2hou79zAOat",
        "outputId": "8f127c36-53cd-4834-c99f-a2a9a1362a6a"
      },
      "execution_count": null,
      "outputs": [
        {
          "output_type": "stream",
          "name": "stdout",
          "text": [
            "CUS_DOB                               0\n",
            "AGE                                   0\n",
            "CUS_Month_Income                      0\n",
            "CUS_Gender                            0\n",
            "CUS_Marital_Status                    0\n",
            "CUS_Customer_Since                    0\n",
            "YEARS_WITH_US                         0\n",
            "# total debit transactions for S1     0\n",
            "# total debit transactions for S2     0\n",
            "# total debit transactions for S3     0\n",
            "total debit amount for S1             0\n",
            "total debit amount for S2             0\n",
            "total debit amount for S3             0\n",
            "# total credit transactions for S1    0\n",
            "# total credit transactions for S2    0\n",
            "# total credit transactions for S3    0\n",
            "total credit amount for S1            0\n",
            "total credit amount for S2            0\n",
            "total credit amount for S3            0\n",
            "total debit amount                    0\n",
            "total debit transactions              0\n",
            "total credit amount                   0\n",
            "total credit transactions             0\n",
            "total transactions                    0\n",
            "CUS_Target                            0\n",
            "TAR_Desc                              0\n",
            "Status                                0\n",
            "CUS_birth_year                        0\n",
            "dtype: int64\n"
          ]
        }
      ]
    },
    {
      "cell_type": "code",
      "source": [
        "remove1 = [\"CUS_DOB\", \"CUS_Customer_Since\",\"# total debit transactions for S1\",\"# total debit transactions for S2\",\"# total debit transactions for S3\",\n",
        "          \"total debit amount for S1\",\"total debit amount for S2\",\"total debit amount for S3\",\"total credit amount for S1\",\"total credit amount for S2\",\n",
        "          \"total credit amount for S3\",\"# total credit transactions for S1\",\"# total credit transactions for S2\",\"# total credit transactions for S3\",\"total transactions\"]\n",
        "bank.drop(remove1, axis=1, inplace=True)\n",
        "bank.head()\n"
      ],
      "metadata": {
        "colab": {
          "base_uri": "https://localhost:8080/"
        },
        "id": "vKDhkntONZnN",
        "outputId": "e57447e9-2015-4db3-dd1b-c289a8d089c7"
      },
      "execution_count": null,
      "outputs": [
        {
          "output_type": "execute_result",
          "data": {
            "text/plain": [
              "   AGE  CUS_Month_Income CUS_Gender CUS_Marital_Status  YEARS_WITH_US  \\\n",
              "0   49           7116.64       MALE            MARRIED             25   \n",
              "1   46        1500000.00     FEMALE             SINGLE             14   \n",
              "2   53        5000000.00     FEMALE             SINGLE             14   \n",
              "3   15            500.00     FEMALE             SINGLE             14   \n",
              "4   48        9000000.00     FEMALE             SINGLE              5   \n",
              "\n",
              "   total debit amount  total debit transactions  total credit amount  \\\n",
              "0          4758311.63                       887           5659653.33   \n",
              "1           139363.22                        97             87000.00   \n",
              "2            37375.46                        53           1020883.70   \n",
              "3             4000.00                         1             76946.96   \n",
              "4           338470.29                        60            442100.00   \n",
              "\n",
              "   total credit transactions  CUS_Target   TAR_Desc  Status  CUS_birth_year  \n",
              "0                         65        2231  EXECUTIVE  ACTIVE            1970  \n",
              "1                         10        2223        LOW  ACTIVE            1973  \n",
              "2                         27        2222      MIDLE  ACTIVE            1966  \n",
              "3                         12        2223        LOW  ACTIVE            2004  \n",
              "4                         21        2223        LOW  ACTIVE            1971  "
            ],
            "text/html": [
              "\n",
              "  <div id=\"df-9cea691b-3d89-40b6-af32-c391b0aeffff\">\n",
              "    <div class=\"colab-df-container\">\n",
              "      <div>\n",
              "<style scoped>\n",
              "    .dataframe tbody tr th:only-of-type {\n",
              "        vertical-align: middle;\n",
              "    }\n",
              "\n",
              "    .dataframe tbody tr th {\n",
              "        vertical-align: top;\n",
              "    }\n",
              "\n",
              "    .dataframe thead th {\n",
              "        text-align: right;\n",
              "    }\n",
              "</style>\n",
              "<table border=\"1\" class=\"dataframe\">\n",
              "  <thead>\n",
              "    <tr style=\"text-align: right;\">\n",
              "      <th></th>\n",
              "      <th>AGE</th>\n",
              "      <th>CUS_Month_Income</th>\n",
              "      <th>CUS_Gender</th>\n",
              "      <th>CUS_Marital_Status</th>\n",
              "      <th>YEARS_WITH_US</th>\n",
              "      <th>total debit amount</th>\n",
              "      <th>total debit transactions</th>\n",
              "      <th>total credit amount</th>\n",
              "      <th>total credit transactions</th>\n",
              "      <th>CUS_Target</th>\n",
              "      <th>TAR_Desc</th>\n",
              "      <th>Status</th>\n",
              "      <th>CUS_birth_year</th>\n",
              "    </tr>\n",
              "  </thead>\n",
              "  <tbody>\n",
              "    <tr>\n",
              "      <th>0</th>\n",
              "      <td>49</td>\n",
              "      <td>7116.64</td>\n",
              "      <td>MALE</td>\n",
              "      <td>MARRIED</td>\n",
              "      <td>25</td>\n",
              "      <td>4758311.63</td>\n",
              "      <td>887</td>\n",
              "      <td>5659653.33</td>\n",
              "      <td>65</td>\n",
              "      <td>2231</td>\n",
              "      <td>EXECUTIVE</td>\n",
              "      <td>ACTIVE</td>\n",
              "      <td>1970</td>\n",
              "    </tr>\n",
              "    <tr>\n",
              "      <th>1</th>\n",
              "      <td>46</td>\n",
              "      <td>1500000.00</td>\n",
              "      <td>FEMALE</td>\n",
              "      <td>SINGLE</td>\n",
              "      <td>14</td>\n",
              "      <td>139363.22</td>\n",
              "      <td>97</td>\n",
              "      <td>87000.00</td>\n",
              "      <td>10</td>\n",
              "      <td>2223</td>\n",
              "      <td>LOW</td>\n",
              "      <td>ACTIVE</td>\n",
              "      <td>1973</td>\n",
              "    </tr>\n",
              "    <tr>\n",
              "      <th>2</th>\n",
              "      <td>53</td>\n",
              "      <td>5000000.00</td>\n",
              "      <td>FEMALE</td>\n",
              "      <td>SINGLE</td>\n",
              "      <td>14</td>\n",
              "      <td>37375.46</td>\n",
              "      <td>53</td>\n",
              "      <td>1020883.70</td>\n",
              "      <td>27</td>\n",
              "      <td>2222</td>\n",
              "      <td>MIDLE</td>\n",
              "      <td>ACTIVE</td>\n",
              "      <td>1966</td>\n",
              "    </tr>\n",
              "    <tr>\n",
              "      <th>3</th>\n",
              "      <td>15</td>\n",
              "      <td>500.00</td>\n",
              "      <td>FEMALE</td>\n",
              "      <td>SINGLE</td>\n",
              "      <td>14</td>\n",
              "      <td>4000.00</td>\n",
              "      <td>1</td>\n",
              "      <td>76946.96</td>\n",
              "      <td>12</td>\n",
              "      <td>2223</td>\n",
              "      <td>LOW</td>\n",
              "      <td>ACTIVE</td>\n",
              "      <td>2004</td>\n",
              "    </tr>\n",
              "    <tr>\n",
              "      <th>4</th>\n",
              "      <td>48</td>\n",
              "      <td>9000000.00</td>\n",
              "      <td>FEMALE</td>\n",
              "      <td>SINGLE</td>\n",
              "      <td>5</td>\n",
              "      <td>338470.29</td>\n",
              "      <td>60</td>\n",
              "      <td>442100.00</td>\n",
              "      <td>21</td>\n",
              "      <td>2223</td>\n",
              "      <td>LOW</td>\n",
              "      <td>ACTIVE</td>\n",
              "      <td>1971</td>\n",
              "    </tr>\n",
              "  </tbody>\n",
              "</table>\n",
              "</div>\n",
              "      <button class=\"colab-df-convert\" onclick=\"convertToInteractive('df-9cea691b-3d89-40b6-af32-c391b0aeffff')\"\n",
              "              title=\"Convert this dataframe to an interactive table.\"\n",
              "              style=\"display:none;\">\n",
              "        \n",
              "  <svg xmlns=\"http://www.w3.org/2000/svg\" height=\"24px\"viewBox=\"0 0 24 24\"\n",
              "       width=\"24px\">\n",
              "    <path d=\"M0 0h24v24H0V0z\" fill=\"none\"/>\n",
              "    <path d=\"M18.56 5.44l.94 2.06.94-2.06 2.06-.94-2.06-.94-.94-2.06-.94 2.06-2.06.94zm-11 1L8.5 8.5l.94-2.06 2.06-.94-2.06-.94L8.5 2.5l-.94 2.06-2.06.94zm10 10l.94 2.06.94-2.06 2.06-.94-2.06-.94-.94-2.06-.94 2.06-2.06.94z\"/><path d=\"M17.41 7.96l-1.37-1.37c-.4-.4-.92-.59-1.43-.59-.52 0-1.04.2-1.43.59L10.3 9.45l-7.72 7.72c-.78.78-.78 2.05 0 2.83L4 21.41c.39.39.9.59 1.41.59.51 0 1.02-.2 1.41-.59l7.78-7.78 2.81-2.81c.8-.78.8-2.07 0-2.86zM5.41 20L4 18.59l7.72-7.72 1.47 1.35L5.41 20z\"/>\n",
              "  </svg>\n",
              "      </button>\n",
              "      \n",
              "  <style>\n",
              "    .colab-df-container {\n",
              "      display:flex;\n",
              "      flex-wrap:wrap;\n",
              "      gap: 12px;\n",
              "    }\n",
              "\n",
              "    .colab-df-convert {\n",
              "      background-color: #E8F0FE;\n",
              "      border: none;\n",
              "      border-radius: 50%;\n",
              "      cursor: pointer;\n",
              "      display: none;\n",
              "      fill: #1967D2;\n",
              "      height: 32px;\n",
              "      padding: 0 0 0 0;\n",
              "      width: 32px;\n",
              "    }\n",
              "\n",
              "    .colab-df-convert:hover {\n",
              "      background-color: #E2EBFA;\n",
              "      box-shadow: 0px 1px 2px rgba(60, 64, 67, 0.3), 0px 1px 3px 1px rgba(60, 64, 67, 0.15);\n",
              "      fill: #174EA6;\n",
              "    }\n",
              "\n",
              "    [theme=dark] .colab-df-convert {\n",
              "      background-color: #3B4455;\n",
              "      fill: #D2E3FC;\n",
              "    }\n",
              "\n",
              "    [theme=dark] .colab-df-convert:hover {\n",
              "      background-color: #434B5C;\n",
              "      box-shadow: 0px 1px 3px 1px rgba(0, 0, 0, 0.15);\n",
              "      filter: drop-shadow(0px 1px 2px rgba(0, 0, 0, 0.3));\n",
              "      fill: #FFFFFF;\n",
              "    }\n",
              "  </style>\n",
              "\n",
              "      <script>\n",
              "        const buttonEl =\n",
              "          document.querySelector('#df-9cea691b-3d89-40b6-af32-c391b0aeffff button.colab-df-convert');\n",
              "        buttonEl.style.display =\n",
              "          google.colab.kernel.accessAllowed ? 'block' : 'none';\n",
              "\n",
              "        async function convertToInteractive(key) {\n",
              "          const element = document.querySelector('#df-9cea691b-3d89-40b6-af32-c391b0aeffff');\n",
              "          const dataTable =\n",
              "            await google.colab.kernel.invokeFunction('convertToInteractive',\n",
              "                                                     [key], {});\n",
              "          if (!dataTable) return;\n",
              "\n",
              "          const docLinkHtml = 'Like what you see? Visit the ' +\n",
              "            '<a target=\"_blank\" href=https://colab.research.google.com/notebooks/data_table.ipynb>data table notebook</a>'\n",
              "            + ' to learn more about interactive tables.';\n",
              "          element.innerHTML = '';\n",
              "          dataTable['output_type'] = 'display_data';\n",
              "          await google.colab.output.renderOutput(dataTable, element);\n",
              "          const docLink = document.createElement('div');\n",
              "          docLink.innerHTML = docLinkHtml;\n",
              "          element.appendChild(docLink);\n",
              "        }\n",
              "      </script>\n",
              "    </div>\n",
              "  </div>\n",
              "  "
            ]
          },
          "metadata": {},
          "execution_count": 26
        }
      ]
    },
    {
      "cell_type": "code",
      "source": [
        "print(bank[\"CUS_Gender\"].unique())\n",
        "print(bank[\"Status\"].unique())"
      ],
      "metadata": {
        "colab": {
          "base_uri": "https://localhost:8080/"
        },
        "id": "xdABFyd1NZpr",
        "outputId": "492fc529-75fc-480e-80cb-78d0650f9030"
      },
      "execution_count": null,
      "outputs": [
        {
          "output_type": "stream",
          "name": "stdout",
          "text": [
            "['MALE' 'FEMALE']\n",
            "['ACTIVE' 'CHURN']\n"
          ]
        }
      ]
    },
    {
      "cell_type": "markdown",
      "source": [
        "### Imbalance\n"
      ],
      "metadata": {
        "id": "XON-JrJ7gie0"
      }
    },
    {
      "cell_type": "code",
      "source": [
        "bank[\"Status\"].value_counts() "
      ],
      "metadata": {
        "colab": {
          "base_uri": "https://localhost:8080/"
        },
        "id": "pe4HFwvvNZtX",
        "outputId": "f4766376-7391-4e53-93e0-d42c643dc694"
      },
      "execution_count": null,
      "outputs": [
        {
          "output_type": "execute_result",
          "data": {
            "text/plain": [
              "ACTIVE    1015\n",
              "CHURN      223\n",
              "Name: Status, dtype: int64"
            ]
          },
          "metadata": {},
          "execution_count": 28
        }
      ]
    },
    {
      "cell_type": "code",
      "source": [
        "# male = 1, female = 0\n",
        "\n",
        "bank[\"CUS_Gender\"] = bank[\"CUS_Gender\"].replace({\"MALE\": 1, \"FEMALE\":0})"
      ],
      "metadata": {
        "id": "ues-qrD-P0np"
      },
      "execution_count": null,
      "outputs": []
    },
    {
      "cell_type": "code",
      "source": [
        "bank[\"TAR_Desc\"].unique()"
      ],
      "metadata": {
        "colab": {
          "base_uri": "https://localhost:8080/"
        },
        "id": "80LTGxV1QtTm",
        "outputId": "58143425-ef6e-4c94-9997-e8e99fe5f396"
      },
      "execution_count": null,
      "outputs": [
        {
          "output_type": "execute_result",
          "data": {
            "text/plain": [
              "array(['EXECUTIVE', 'LOW', 'MIDLE', 'PLATINUM'], dtype=object)"
            ]
          },
          "metadata": {},
          "execution_count": 30
        }
      ]
    },
    {
      "cell_type": "code",
      "source": [
        "#correcting the spelling\n",
        "\n",
        "bank[\"TAR_Desc\"] = bank[\"TAR_Desc\"].replace(\"MIDLE\", \"MIDDLE\")"
      ],
      "metadata": {
        "id": "6-ASk1C0QtY8"
      },
      "execution_count": null,
      "outputs": []
    },
    {
      "cell_type": "code",
      "source": [
        "bank[\"CUS_Marital_Status\"] = LabelEncoder().fit_transform(bank[\"CUS_Marital_Status\"])"
      ],
      "metadata": {
        "id": "dsjIutV7VB-O"
      },
      "execution_count": null,
      "outputs": []
    },
    {
      "cell_type": "code",
      "source": [
        "bank[\"TAR_Desc\"] = LabelEncoder().fit_transform(bank[\"TAR_Desc\"])"
      ],
      "metadata": {
        "id": "jGmChd_qVQdZ"
      },
      "execution_count": null,
      "outputs": []
    },
    {
      "cell_type": "code",
      "source": [
        "bank.head()"
      ],
      "metadata": {
        "colab": {
          "base_uri": "https://localhost:8080/"
        },
        "id": "l1RwI1pkQtjf",
        "outputId": "49512797-9aa0-4154-e8bc-a013bf7cad2f"
      },
      "execution_count": null,
      "outputs": [
        {
          "output_type": "execute_result",
          "data": {
            "text/plain": [
              "   AGE  CUS_Month_Income  CUS_Gender  CUS_Marital_Status  YEARS_WITH_US  \\\n",
              "0   49           7116.64           1                   1             25   \n",
              "1   46        1500000.00           0                   4             14   \n",
              "2   53        5000000.00           0                   4             14   \n",
              "3   15            500.00           0                   4             14   \n",
              "4   48        9000000.00           0                   4              5   \n",
              "\n",
              "   total debit amount  total debit transactions  total credit amount  \\\n",
              "0          4758311.63                       887           5659653.33   \n",
              "1           139363.22                        97             87000.00   \n",
              "2            37375.46                        53           1020883.70   \n",
              "3             4000.00                         1             76946.96   \n",
              "4           338470.29                        60            442100.00   \n",
              "\n",
              "   total credit transactions  CUS_Target  TAR_Desc  Status  CUS_birth_year  \n",
              "0                         65        2231         0  ACTIVE            1970  \n",
              "1                         10        2223         1  ACTIVE            1973  \n",
              "2                         27        2222         2  ACTIVE            1966  \n",
              "3                         12        2223         1  ACTIVE            2004  \n",
              "4                         21        2223         1  ACTIVE            1971  "
            ],
            "text/html": [
              "\n",
              "  <div id=\"df-80e6d6b1-42a1-4fc7-8b92-f422d62c7584\">\n",
              "    <div class=\"colab-df-container\">\n",
              "      <div>\n",
              "<style scoped>\n",
              "    .dataframe tbody tr th:only-of-type {\n",
              "        vertical-align: middle;\n",
              "    }\n",
              "\n",
              "    .dataframe tbody tr th {\n",
              "        vertical-align: top;\n",
              "    }\n",
              "\n",
              "    .dataframe thead th {\n",
              "        text-align: right;\n",
              "    }\n",
              "</style>\n",
              "<table border=\"1\" class=\"dataframe\">\n",
              "  <thead>\n",
              "    <tr style=\"text-align: right;\">\n",
              "      <th></th>\n",
              "      <th>AGE</th>\n",
              "      <th>CUS_Month_Income</th>\n",
              "      <th>CUS_Gender</th>\n",
              "      <th>CUS_Marital_Status</th>\n",
              "      <th>YEARS_WITH_US</th>\n",
              "      <th>total debit amount</th>\n",
              "      <th>total debit transactions</th>\n",
              "      <th>total credit amount</th>\n",
              "      <th>total credit transactions</th>\n",
              "      <th>CUS_Target</th>\n",
              "      <th>TAR_Desc</th>\n",
              "      <th>Status</th>\n",
              "      <th>CUS_birth_year</th>\n",
              "    </tr>\n",
              "  </thead>\n",
              "  <tbody>\n",
              "    <tr>\n",
              "      <th>0</th>\n",
              "      <td>49</td>\n",
              "      <td>7116.64</td>\n",
              "      <td>1</td>\n",
              "      <td>1</td>\n",
              "      <td>25</td>\n",
              "      <td>4758311.63</td>\n",
              "      <td>887</td>\n",
              "      <td>5659653.33</td>\n",
              "      <td>65</td>\n",
              "      <td>2231</td>\n",
              "      <td>0</td>\n",
              "      <td>ACTIVE</td>\n",
              "      <td>1970</td>\n",
              "    </tr>\n",
              "    <tr>\n",
              "      <th>1</th>\n",
              "      <td>46</td>\n",
              "      <td>1500000.00</td>\n",
              "      <td>0</td>\n",
              "      <td>4</td>\n",
              "      <td>14</td>\n",
              "      <td>139363.22</td>\n",
              "      <td>97</td>\n",
              "      <td>87000.00</td>\n",
              "      <td>10</td>\n",
              "      <td>2223</td>\n",
              "      <td>1</td>\n",
              "      <td>ACTIVE</td>\n",
              "      <td>1973</td>\n",
              "    </tr>\n",
              "    <tr>\n",
              "      <th>2</th>\n",
              "      <td>53</td>\n",
              "      <td>5000000.00</td>\n",
              "      <td>0</td>\n",
              "      <td>4</td>\n",
              "      <td>14</td>\n",
              "      <td>37375.46</td>\n",
              "      <td>53</td>\n",
              "      <td>1020883.70</td>\n",
              "      <td>27</td>\n",
              "      <td>2222</td>\n",
              "      <td>2</td>\n",
              "      <td>ACTIVE</td>\n",
              "      <td>1966</td>\n",
              "    </tr>\n",
              "    <tr>\n",
              "      <th>3</th>\n",
              "      <td>15</td>\n",
              "      <td>500.00</td>\n",
              "      <td>0</td>\n",
              "      <td>4</td>\n",
              "      <td>14</td>\n",
              "      <td>4000.00</td>\n",
              "      <td>1</td>\n",
              "      <td>76946.96</td>\n",
              "      <td>12</td>\n",
              "      <td>2223</td>\n",
              "      <td>1</td>\n",
              "      <td>ACTIVE</td>\n",
              "      <td>2004</td>\n",
              "    </tr>\n",
              "    <tr>\n",
              "      <th>4</th>\n",
              "      <td>48</td>\n",
              "      <td>9000000.00</td>\n",
              "      <td>0</td>\n",
              "      <td>4</td>\n",
              "      <td>5</td>\n",
              "      <td>338470.29</td>\n",
              "      <td>60</td>\n",
              "      <td>442100.00</td>\n",
              "      <td>21</td>\n",
              "      <td>2223</td>\n",
              "      <td>1</td>\n",
              "      <td>ACTIVE</td>\n",
              "      <td>1971</td>\n",
              "    </tr>\n",
              "  </tbody>\n",
              "</table>\n",
              "</div>\n",
              "      <button class=\"colab-df-convert\" onclick=\"convertToInteractive('df-80e6d6b1-42a1-4fc7-8b92-f422d62c7584')\"\n",
              "              title=\"Convert this dataframe to an interactive table.\"\n",
              "              style=\"display:none;\">\n",
              "        \n",
              "  <svg xmlns=\"http://www.w3.org/2000/svg\" height=\"24px\"viewBox=\"0 0 24 24\"\n",
              "       width=\"24px\">\n",
              "    <path d=\"M0 0h24v24H0V0z\" fill=\"none\"/>\n",
              "    <path d=\"M18.56 5.44l.94 2.06.94-2.06 2.06-.94-2.06-.94-.94-2.06-.94 2.06-2.06.94zm-11 1L8.5 8.5l.94-2.06 2.06-.94-2.06-.94L8.5 2.5l-.94 2.06-2.06.94zm10 10l.94 2.06.94-2.06 2.06-.94-2.06-.94-.94-2.06-.94 2.06-2.06.94z\"/><path d=\"M17.41 7.96l-1.37-1.37c-.4-.4-.92-.59-1.43-.59-.52 0-1.04.2-1.43.59L10.3 9.45l-7.72 7.72c-.78.78-.78 2.05 0 2.83L4 21.41c.39.39.9.59 1.41.59.51 0 1.02-.2 1.41-.59l7.78-7.78 2.81-2.81c.8-.78.8-2.07 0-2.86zM5.41 20L4 18.59l7.72-7.72 1.47 1.35L5.41 20z\"/>\n",
              "  </svg>\n",
              "      </button>\n",
              "      \n",
              "  <style>\n",
              "    .colab-df-container {\n",
              "      display:flex;\n",
              "      flex-wrap:wrap;\n",
              "      gap: 12px;\n",
              "    }\n",
              "\n",
              "    .colab-df-convert {\n",
              "      background-color: #E8F0FE;\n",
              "      border: none;\n",
              "      border-radius: 50%;\n",
              "      cursor: pointer;\n",
              "      display: none;\n",
              "      fill: #1967D2;\n",
              "      height: 32px;\n",
              "      padding: 0 0 0 0;\n",
              "      width: 32px;\n",
              "    }\n",
              "\n",
              "    .colab-df-convert:hover {\n",
              "      background-color: #E2EBFA;\n",
              "      box-shadow: 0px 1px 2px rgba(60, 64, 67, 0.3), 0px 1px 3px 1px rgba(60, 64, 67, 0.15);\n",
              "      fill: #174EA6;\n",
              "    }\n",
              "\n",
              "    [theme=dark] .colab-df-convert {\n",
              "      background-color: #3B4455;\n",
              "      fill: #D2E3FC;\n",
              "    }\n",
              "\n",
              "    [theme=dark] .colab-df-convert:hover {\n",
              "      background-color: #434B5C;\n",
              "      box-shadow: 0px 1px 3px 1px rgba(0, 0, 0, 0.15);\n",
              "      filter: drop-shadow(0px 1px 2px rgba(0, 0, 0, 0.3));\n",
              "      fill: #FFFFFF;\n",
              "    }\n",
              "  </style>\n",
              "\n",
              "      <script>\n",
              "        const buttonEl =\n",
              "          document.querySelector('#df-80e6d6b1-42a1-4fc7-8b92-f422d62c7584 button.colab-df-convert');\n",
              "        buttonEl.style.display =\n",
              "          google.colab.kernel.accessAllowed ? 'block' : 'none';\n",
              "\n",
              "        async function convertToInteractive(key) {\n",
              "          const element = document.querySelector('#df-80e6d6b1-42a1-4fc7-8b92-f422d62c7584');\n",
              "          const dataTable =\n",
              "            await google.colab.kernel.invokeFunction('convertToInteractive',\n",
              "                                                     [key], {});\n",
              "          if (!dataTable) return;\n",
              "\n",
              "          const docLinkHtml = 'Like what you see? Visit the ' +\n",
              "            '<a target=\"_blank\" href=https://colab.research.google.com/notebooks/data_table.ipynb>data table notebook</a>'\n",
              "            + ' to learn more about interactive tables.';\n",
              "          element.innerHTML = '';\n",
              "          dataTable['output_type'] = 'display_data';\n",
              "          await google.colab.output.renderOutput(dataTable, element);\n",
              "          const docLink = document.createElement('div');\n",
              "          docLink.innerHTML = docLinkHtml;\n",
              "          element.appendChild(docLink);\n",
              "        }\n",
              "      </script>\n",
              "    </div>\n",
              "  </div>\n",
              "  "
            ]
          },
          "metadata": {},
          "execution_count": 34
        }
      ]
    },
    {
      "cell_type": "code",
      "source": [
        "#Checking the shape to find the numbers of rows and columns\n",
        "\n",
        "bank.shape"
      ],
      "metadata": {
        "colab": {
          "base_uri": "https://localhost:8080/"
        },
        "id": "Yl-hsvXqV0Pv",
        "outputId": "07507c17-54e9-4551-cee1-8ebe2c21ea04"
      },
      "execution_count": null,
      "outputs": [
        {
          "output_type": "execute_result",
          "data": {
            "text/plain": [
              "(1238, 13)"
            ]
          },
          "metadata": {},
          "execution_count": 35
        }
      ]
    },
    {
      "cell_type": "code",
      "source": [
        "bank.info()"
      ],
      "metadata": {
        "colab": {
          "base_uri": "https://localhost:8080/"
        },
        "id": "5cS9qvamb-8l",
        "outputId": "378f8ddd-cd86-48a5-8dc8-bd2ee43843b4"
      },
      "execution_count": null,
      "outputs": [
        {
          "output_type": "stream",
          "name": "stdout",
          "text": [
            "<class 'pandas.core.frame.DataFrame'>\n",
            "Int64Index: 1238 entries, 0 to 1248\n",
            "Data columns (total 13 columns):\n",
            " #   Column                     Non-Null Count  Dtype  \n",
            "---  ------                     --------------  -----  \n",
            " 0   AGE                        1238 non-null   int64  \n",
            " 1   CUS_Month_Income           1238 non-null   float64\n",
            " 2   CUS_Gender                 1238 non-null   int64  \n",
            " 3   CUS_Marital_Status         1238 non-null   int64  \n",
            " 4   YEARS_WITH_US              1238 non-null   int64  \n",
            " 5   total debit amount         1238 non-null   float64\n",
            " 6   total debit transactions   1238 non-null   int64  \n",
            " 7   total credit amount        1238 non-null   float64\n",
            " 8   total credit transactions  1238 non-null   int64  \n",
            " 9   CUS_Target                 1238 non-null   int64  \n",
            " 10  TAR_Desc                   1238 non-null   int64  \n",
            " 11  Status                     1238 non-null   object \n",
            " 12  CUS_birth_year             1238 non-null   int64  \n",
            "dtypes: float64(3), int64(9), object(1)\n",
            "memory usage: 135.4+ KB\n"
          ]
        }
      ]
    },
    {
      "cell_type": "markdown",
      "source": [
        "#Spliting the feature variable and target variables"
      ],
      "metadata": {
        "id": "O72cEzWi2FD9"
      }
    },
    {
      "cell_type": "code",
      "source": [
        "#Splitting the feature variables and target variables\n",
        "X = bank.drop(\"Status\", axis=1).values\n",
        "y = bank.iloc[:, -2].values"
      ],
      "metadata": {
        "id": "KVAjziJcUHqp"
      },
      "execution_count": null,
      "outputs": []
    },
    {
      "cell_type": "code",
      "source": [
        "X = pd.DataFrame(X)\n",
        "X"
      ],
      "metadata": {
        "colab": {
          "base_uri": "https://localhost:8080/"
        },
        "id": "k8dhyz8QU3Jq",
        "outputId": "7428f7cc-0f80-4c17-8c50-7ad1e55b5b24"
      },
      "execution_count": null,
      "outputs": [
        {
          "output_type": "execute_result",
          "data": {
            "text/plain": [
              "        0           1    2    3     4           5       6           7      8   \\\n",
              "0     49.0     7116.64  1.0  1.0  25.0  4758311.63   887.0  5659653.33   65.0   \n",
              "1     46.0  1500000.00  0.0  4.0  14.0   139363.22    97.0    87000.00   10.0   \n",
              "2     53.0  5000000.00  0.0  4.0  14.0    37375.46    53.0  1020883.70   27.0   \n",
              "3     15.0      500.00  0.0  4.0  14.0     4000.00     1.0    76946.96   12.0   \n",
              "4     48.0  9000000.00  0.0  4.0   5.0   338470.29    60.0   442100.00   21.0   \n",
              "...    ...         ...  ...  ...   ...         ...     ...         ...    ...   \n",
              "1233  68.0     4500.00  1.0  4.0  14.0     5645.60    26.0        0.00    0.0   \n",
              "1234  35.0  3500000.00  1.0  4.0  14.0   385735.90   127.0   674630.41   22.0   \n",
              "1235  34.0     1000.00  1.0  4.0  14.0  2473621.68  1207.0  2641348.01  217.0   \n",
              "1236  69.0  2000000.00  1.0  4.0  14.0  1371852.22   583.0  1310768.35   48.0   \n",
              "1237  58.0  5000000.00  0.0  4.0  14.0   761827.91   233.0   666850.00   37.0   \n",
              "\n",
              "          9    10      11  \n",
              "0     2231.0  0.0  1970.0  \n",
              "1     2223.0  1.0  1973.0  \n",
              "2     2222.0  2.0  1966.0  \n",
              "3     2223.0  1.0  2004.0  \n",
              "4     2223.0  1.0  1971.0  \n",
              "...      ...  ...     ...  \n",
              "1233  2223.0  1.0  1951.0  \n",
              "1234  2222.0  2.0  1984.0  \n",
              "1235  2232.0  2.0  1985.0  \n",
              "1236  2222.0  2.0  1950.0  \n",
              "1237  2222.0  2.0  1961.0  \n",
              "\n",
              "[1238 rows x 12 columns]"
            ],
            "text/html": [
              "\n",
              "  <div id=\"df-0824e959-be69-43b6-b155-08e09a627800\">\n",
              "    <div class=\"colab-df-container\">\n",
              "      <div>\n",
              "<style scoped>\n",
              "    .dataframe tbody tr th:only-of-type {\n",
              "        vertical-align: middle;\n",
              "    }\n",
              "\n",
              "    .dataframe tbody tr th {\n",
              "        vertical-align: top;\n",
              "    }\n",
              "\n",
              "    .dataframe thead th {\n",
              "        text-align: right;\n",
              "    }\n",
              "</style>\n",
              "<table border=\"1\" class=\"dataframe\">\n",
              "  <thead>\n",
              "    <tr style=\"text-align: right;\">\n",
              "      <th></th>\n",
              "      <th>0</th>\n",
              "      <th>1</th>\n",
              "      <th>2</th>\n",
              "      <th>3</th>\n",
              "      <th>4</th>\n",
              "      <th>5</th>\n",
              "      <th>6</th>\n",
              "      <th>7</th>\n",
              "      <th>8</th>\n",
              "      <th>9</th>\n",
              "      <th>10</th>\n",
              "      <th>11</th>\n",
              "    </tr>\n",
              "  </thead>\n",
              "  <tbody>\n",
              "    <tr>\n",
              "      <th>0</th>\n",
              "      <td>49.0</td>\n",
              "      <td>7116.64</td>\n",
              "      <td>1.0</td>\n",
              "      <td>1.0</td>\n",
              "      <td>25.0</td>\n",
              "      <td>4758311.63</td>\n",
              "      <td>887.0</td>\n",
              "      <td>5659653.33</td>\n",
              "      <td>65.0</td>\n",
              "      <td>2231.0</td>\n",
              "      <td>0.0</td>\n",
              "      <td>1970.0</td>\n",
              "    </tr>\n",
              "    <tr>\n",
              "      <th>1</th>\n",
              "      <td>46.0</td>\n",
              "      <td>1500000.00</td>\n",
              "      <td>0.0</td>\n",
              "      <td>4.0</td>\n",
              "      <td>14.0</td>\n",
              "      <td>139363.22</td>\n",
              "      <td>97.0</td>\n",
              "      <td>87000.00</td>\n",
              "      <td>10.0</td>\n",
              "      <td>2223.0</td>\n",
              "      <td>1.0</td>\n",
              "      <td>1973.0</td>\n",
              "    </tr>\n",
              "    <tr>\n",
              "      <th>2</th>\n",
              "      <td>53.0</td>\n",
              "      <td>5000000.00</td>\n",
              "      <td>0.0</td>\n",
              "      <td>4.0</td>\n",
              "      <td>14.0</td>\n",
              "      <td>37375.46</td>\n",
              "      <td>53.0</td>\n",
              "      <td>1020883.70</td>\n",
              "      <td>27.0</td>\n",
              "      <td>2222.0</td>\n",
              "      <td>2.0</td>\n",
              "      <td>1966.0</td>\n",
              "    </tr>\n",
              "    <tr>\n",
              "      <th>3</th>\n",
              "      <td>15.0</td>\n",
              "      <td>500.00</td>\n",
              "      <td>0.0</td>\n",
              "      <td>4.0</td>\n",
              "      <td>14.0</td>\n",
              "      <td>4000.00</td>\n",
              "      <td>1.0</td>\n",
              "      <td>76946.96</td>\n",
              "      <td>12.0</td>\n",
              "      <td>2223.0</td>\n",
              "      <td>1.0</td>\n",
              "      <td>2004.0</td>\n",
              "    </tr>\n",
              "    <tr>\n",
              "      <th>4</th>\n",
              "      <td>48.0</td>\n",
              "      <td>9000000.00</td>\n",
              "      <td>0.0</td>\n",
              "      <td>4.0</td>\n",
              "      <td>5.0</td>\n",
              "      <td>338470.29</td>\n",
              "      <td>60.0</td>\n",
              "      <td>442100.00</td>\n",
              "      <td>21.0</td>\n",
              "      <td>2223.0</td>\n",
              "      <td>1.0</td>\n",
              "      <td>1971.0</td>\n",
              "    </tr>\n",
              "    <tr>\n",
              "      <th>...</th>\n",
              "      <td>...</td>\n",
              "      <td>...</td>\n",
              "      <td>...</td>\n",
              "      <td>...</td>\n",
              "      <td>...</td>\n",
              "      <td>...</td>\n",
              "      <td>...</td>\n",
              "      <td>...</td>\n",
              "      <td>...</td>\n",
              "      <td>...</td>\n",
              "      <td>...</td>\n",
              "      <td>...</td>\n",
              "    </tr>\n",
              "    <tr>\n",
              "      <th>1233</th>\n",
              "      <td>68.0</td>\n",
              "      <td>4500.00</td>\n",
              "      <td>1.0</td>\n",
              "      <td>4.0</td>\n",
              "      <td>14.0</td>\n",
              "      <td>5645.60</td>\n",
              "      <td>26.0</td>\n",
              "      <td>0.00</td>\n",
              "      <td>0.0</td>\n",
              "      <td>2223.0</td>\n",
              "      <td>1.0</td>\n",
              "      <td>1951.0</td>\n",
              "    </tr>\n",
              "    <tr>\n",
              "      <th>1234</th>\n",
              "      <td>35.0</td>\n",
              "      <td>3500000.00</td>\n",
              "      <td>1.0</td>\n",
              "      <td>4.0</td>\n",
              "      <td>14.0</td>\n",
              "      <td>385735.90</td>\n",
              "      <td>127.0</td>\n",
              "      <td>674630.41</td>\n",
              "      <td>22.0</td>\n",
              "      <td>2222.0</td>\n",
              "      <td>2.0</td>\n",
              "      <td>1984.0</td>\n",
              "    </tr>\n",
              "    <tr>\n",
              "      <th>1235</th>\n",
              "      <td>34.0</td>\n",
              "      <td>1000.00</td>\n",
              "      <td>1.0</td>\n",
              "      <td>4.0</td>\n",
              "      <td>14.0</td>\n",
              "      <td>2473621.68</td>\n",
              "      <td>1207.0</td>\n",
              "      <td>2641348.01</td>\n",
              "      <td>217.0</td>\n",
              "      <td>2232.0</td>\n",
              "      <td>2.0</td>\n",
              "      <td>1985.0</td>\n",
              "    </tr>\n",
              "    <tr>\n",
              "      <th>1236</th>\n",
              "      <td>69.0</td>\n",
              "      <td>2000000.00</td>\n",
              "      <td>1.0</td>\n",
              "      <td>4.0</td>\n",
              "      <td>14.0</td>\n",
              "      <td>1371852.22</td>\n",
              "      <td>583.0</td>\n",
              "      <td>1310768.35</td>\n",
              "      <td>48.0</td>\n",
              "      <td>2222.0</td>\n",
              "      <td>2.0</td>\n",
              "      <td>1950.0</td>\n",
              "    </tr>\n",
              "    <tr>\n",
              "      <th>1237</th>\n",
              "      <td>58.0</td>\n",
              "      <td>5000000.00</td>\n",
              "      <td>0.0</td>\n",
              "      <td>4.0</td>\n",
              "      <td>14.0</td>\n",
              "      <td>761827.91</td>\n",
              "      <td>233.0</td>\n",
              "      <td>666850.00</td>\n",
              "      <td>37.0</td>\n",
              "      <td>2222.0</td>\n",
              "      <td>2.0</td>\n",
              "      <td>1961.0</td>\n",
              "    </tr>\n",
              "  </tbody>\n",
              "</table>\n",
              "<p>1238 rows × 12 columns</p>\n",
              "</div>\n",
              "      <button class=\"colab-df-convert\" onclick=\"convertToInteractive('df-0824e959-be69-43b6-b155-08e09a627800')\"\n",
              "              title=\"Convert this dataframe to an interactive table.\"\n",
              "              style=\"display:none;\">\n",
              "        \n",
              "  <svg xmlns=\"http://www.w3.org/2000/svg\" height=\"24px\"viewBox=\"0 0 24 24\"\n",
              "       width=\"24px\">\n",
              "    <path d=\"M0 0h24v24H0V0z\" fill=\"none\"/>\n",
              "    <path d=\"M18.56 5.44l.94 2.06.94-2.06 2.06-.94-2.06-.94-.94-2.06-.94 2.06-2.06.94zm-11 1L8.5 8.5l.94-2.06 2.06-.94-2.06-.94L8.5 2.5l-.94 2.06-2.06.94zm10 10l.94 2.06.94-2.06 2.06-.94-2.06-.94-.94-2.06-.94 2.06-2.06.94z\"/><path d=\"M17.41 7.96l-1.37-1.37c-.4-.4-.92-.59-1.43-.59-.52 0-1.04.2-1.43.59L10.3 9.45l-7.72 7.72c-.78.78-.78 2.05 0 2.83L4 21.41c.39.39.9.59 1.41.59.51 0 1.02-.2 1.41-.59l7.78-7.78 2.81-2.81c.8-.78.8-2.07 0-2.86zM5.41 20L4 18.59l7.72-7.72 1.47 1.35L5.41 20z\"/>\n",
              "  </svg>\n",
              "      </button>\n",
              "      \n",
              "  <style>\n",
              "    .colab-df-container {\n",
              "      display:flex;\n",
              "      flex-wrap:wrap;\n",
              "      gap: 12px;\n",
              "    }\n",
              "\n",
              "    .colab-df-convert {\n",
              "      background-color: #E8F0FE;\n",
              "      border: none;\n",
              "      border-radius: 50%;\n",
              "      cursor: pointer;\n",
              "      display: none;\n",
              "      fill: #1967D2;\n",
              "      height: 32px;\n",
              "      padding: 0 0 0 0;\n",
              "      width: 32px;\n",
              "    }\n",
              "\n",
              "    .colab-df-convert:hover {\n",
              "      background-color: #E2EBFA;\n",
              "      box-shadow: 0px 1px 2px rgba(60, 64, 67, 0.3), 0px 1px 3px 1px rgba(60, 64, 67, 0.15);\n",
              "      fill: #174EA6;\n",
              "    }\n",
              "\n",
              "    [theme=dark] .colab-df-convert {\n",
              "      background-color: #3B4455;\n",
              "      fill: #D2E3FC;\n",
              "    }\n",
              "\n",
              "    [theme=dark] .colab-df-convert:hover {\n",
              "      background-color: #434B5C;\n",
              "      box-shadow: 0px 1px 3px 1px rgba(0, 0, 0, 0.15);\n",
              "      filter: drop-shadow(0px 1px 2px rgba(0, 0, 0, 0.3));\n",
              "      fill: #FFFFFF;\n",
              "    }\n",
              "  </style>\n",
              "\n",
              "      <script>\n",
              "        const buttonEl =\n",
              "          document.querySelector('#df-0824e959-be69-43b6-b155-08e09a627800 button.colab-df-convert');\n",
              "        buttonEl.style.display =\n",
              "          google.colab.kernel.accessAllowed ? 'block' : 'none';\n",
              "\n",
              "        async function convertToInteractive(key) {\n",
              "          const element = document.querySelector('#df-0824e959-be69-43b6-b155-08e09a627800');\n",
              "          const dataTable =\n",
              "            await google.colab.kernel.invokeFunction('convertToInteractive',\n",
              "                                                     [key], {});\n",
              "          if (!dataTable) return;\n",
              "\n",
              "          const docLinkHtml = 'Like what you see? Visit the ' +\n",
              "            '<a target=\"_blank\" href=https://colab.research.google.com/notebooks/data_table.ipynb>data table notebook</a>'\n",
              "            + ' to learn more about interactive tables.';\n",
              "          element.innerHTML = '';\n",
              "          dataTable['output_type'] = 'display_data';\n",
              "          await google.colab.output.renderOutput(dataTable, element);\n",
              "          const docLink = document.createElement('div');\n",
              "          docLink.innerHTML = docLinkHtml;\n",
              "          element.appendChild(docLink);\n",
              "        }\n",
              "      </script>\n",
              "    </div>\n",
              "  </div>\n",
              "  "
            ]
          },
          "metadata": {},
          "execution_count": 38
        }
      ]
    },
    {
      "cell_type": "code",
      "source": [
        "y = pd.DataFrame(y)\n",
        "y"
      ],
      "metadata": {
        "colab": {
          "base_uri": "https://localhost:8080/"
        },
        "id": "PIMMYXh9U7Hx",
        "outputId": "0aadb03a-301e-4217-cf34-0d3524622274"
      },
      "execution_count": null,
      "outputs": [
        {
          "output_type": "execute_result",
          "data": {
            "text/plain": [
              "           0\n",
              "0     ACTIVE\n",
              "1     ACTIVE\n",
              "2     ACTIVE\n",
              "3     ACTIVE\n",
              "4     ACTIVE\n",
              "...      ...\n",
              "1233   CHURN\n",
              "1234  ACTIVE\n",
              "1235  ACTIVE\n",
              "1236  ACTIVE\n",
              "1237  ACTIVE\n",
              "\n",
              "[1238 rows x 1 columns]"
            ],
            "text/html": [
              "\n",
              "  <div id=\"df-850275a6-437f-4a38-b01b-0916b1e97952\">\n",
              "    <div class=\"colab-df-container\">\n",
              "      <div>\n",
              "<style scoped>\n",
              "    .dataframe tbody tr th:only-of-type {\n",
              "        vertical-align: middle;\n",
              "    }\n",
              "\n",
              "    .dataframe tbody tr th {\n",
              "        vertical-align: top;\n",
              "    }\n",
              "\n",
              "    .dataframe thead th {\n",
              "        text-align: right;\n",
              "    }\n",
              "</style>\n",
              "<table border=\"1\" class=\"dataframe\">\n",
              "  <thead>\n",
              "    <tr style=\"text-align: right;\">\n",
              "      <th></th>\n",
              "      <th>0</th>\n",
              "    </tr>\n",
              "  </thead>\n",
              "  <tbody>\n",
              "    <tr>\n",
              "      <th>0</th>\n",
              "      <td>ACTIVE</td>\n",
              "    </tr>\n",
              "    <tr>\n",
              "      <th>1</th>\n",
              "      <td>ACTIVE</td>\n",
              "    </tr>\n",
              "    <tr>\n",
              "      <th>2</th>\n",
              "      <td>ACTIVE</td>\n",
              "    </tr>\n",
              "    <tr>\n",
              "      <th>3</th>\n",
              "      <td>ACTIVE</td>\n",
              "    </tr>\n",
              "    <tr>\n",
              "      <th>4</th>\n",
              "      <td>ACTIVE</td>\n",
              "    </tr>\n",
              "    <tr>\n",
              "      <th>...</th>\n",
              "      <td>...</td>\n",
              "    </tr>\n",
              "    <tr>\n",
              "      <th>1233</th>\n",
              "      <td>CHURN</td>\n",
              "    </tr>\n",
              "    <tr>\n",
              "      <th>1234</th>\n",
              "      <td>ACTIVE</td>\n",
              "    </tr>\n",
              "    <tr>\n",
              "      <th>1235</th>\n",
              "      <td>ACTIVE</td>\n",
              "    </tr>\n",
              "    <tr>\n",
              "      <th>1236</th>\n",
              "      <td>ACTIVE</td>\n",
              "    </tr>\n",
              "    <tr>\n",
              "      <th>1237</th>\n",
              "      <td>ACTIVE</td>\n",
              "    </tr>\n",
              "  </tbody>\n",
              "</table>\n",
              "<p>1238 rows × 1 columns</p>\n",
              "</div>\n",
              "      <button class=\"colab-df-convert\" onclick=\"convertToInteractive('df-850275a6-437f-4a38-b01b-0916b1e97952')\"\n",
              "              title=\"Convert this dataframe to an interactive table.\"\n",
              "              style=\"display:none;\">\n",
              "        \n",
              "  <svg xmlns=\"http://www.w3.org/2000/svg\" height=\"24px\"viewBox=\"0 0 24 24\"\n",
              "       width=\"24px\">\n",
              "    <path d=\"M0 0h24v24H0V0z\" fill=\"none\"/>\n",
              "    <path d=\"M18.56 5.44l.94 2.06.94-2.06 2.06-.94-2.06-.94-.94-2.06-.94 2.06-2.06.94zm-11 1L8.5 8.5l.94-2.06 2.06-.94-2.06-.94L8.5 2.5l-.94 2.06-2.06.94zm10 10l.94 2.06.94-2.06 2.06-.94-2.06-.94-.94-2.06-.94 2.06-2.06.94z\"/><path d=\"M17.41 7.96l-1.37-1.37c-.4-.4-.92-.59-1.43-.59-.52 0-1.04.2-1.43.59L10.3 9.45l-7.72 7.72c-.78.78-.78 2.05 0 2.83L4 21.41c.39.39.9.59 1.41.59.51 0 1.02-.2 1.41-.59l7.78-7.78 2.81-2.81c.8-.78.8-2.07 0-2.86zM5.41 20L4 18.59l7.72-7.72 1.47 1.35L5.41 20z\"/>\n",
              "  </svg>\n",
              "      </button>\n",
              "      \n",
              "  <style>\n",
              "    .colab-df-container {\n",
              "      display:flex;\n",
              "      flex-wrap:wrap;\n",
              "      gap: 12px;\n",
              "    }\n",
              "\n",
              "    .colab-df-convert {\n",
              "      background-color: #E8F0FE;\n",
              "      border: none;\n",
              "      border-radius: 50%;\n",
              "      cursor: pointer;\n",
              "      display: none;\n",
              "      fill: #1967D2;\n",
              "      height: 32px;\n",
              "      padding: 0 0 0 0;\n",
              "      width: 32px;\n",
              "    }\n",
              "\n",
              "    .colab-df-convert:hover {\n",
              "      background-color: #E2EBFA;\n",
              "      box-shadow: 0px 1px 2px rgba(60, 64, 67, 0.3), 0px 1px 3px 1px rgba(60, 64, 67, 0.15);\n",
              "      fill: #174EA6;\n",
              "    }\n",
              "\n",
              "    [theme=dark] .colab-df-convert {\n",
              "      background-color: #3B4455;\n",
              "      fill: #D2E3FC;\n",
              "    }\n",
              "\n",
              "    [theme=dark] .colab-df-convert:hover {\n",
              "      background-color: #434B5C;\n",
              "      box-shadow: 0px 1px 3px 1px rgba(0, 0, 0, 0.15);\n",
              "      filter: drop-shadow(0px 1px 2px rgba(0, 0, 0, 0.3));\n",
              "      fill: #FFFFFF;\n",
              "    }\n",
              "  </style>\n",
              "\n",
              "      <script>\n",
              "        const buttonEl =\n",
              "          document.querySelector('#df-850275a6-437f-4a38-b01b-0916b1e97952 button.colab-df-convert');\n",
              "        buttonEl.style.display =\n",
              "          google.colab.kernel.accessAllowed ? 'block' : 'none';\n",
              "\n",
              "        async function convertToInteractive(key) {\n",
              "          const element = document.querySelector('#df-850275a6-437f-4a38-b01b-0916b1e97952');\n",
              "          const dataTable =\n",
              "            await google.colab.kernel.invokeFunction('convertToInteractive',\n",
              "                                                     [key], {});\n",
              "          if (!dataTable) return;\n",
              "\n",
              "          const docLinkHtml = 'Like what you see? Visit the ' +\n",
              "            '<a target=\"_blank\" href=https://colab.research.google.com/notebooks/data_table.ipynb>data table notebook</a>'\n",
              "            + ' to learn more about interactive tables.';\n",
              "          element.innerHTML = '';\n",
              "          dataTable['output_type'] = 'display_data';\n",
              "          await google.colab.output.renderOutput(dataTable, element);\n",
              "          const docLink = document.createElement('div');\n",
              "          docLink.innerHTML = docLinkHtml;\n",
              "          element.appendChild(docLink);\n",
              "        }\n",
              "      </script>\n",
              "    </div>\n",
              "  </div>\n",
              "  "
            ]
          },
          "metadata": {},
          "execution_count": 39
        }
      ]
    },
    {
      "cell_type": "code",
      "source": [
        "#Splitting the train and test data\n",
        "from sklearn.model_selection import train_test_split\n",
        "\n",
        "X_train, X_test, y_train, y_test = train_test_split(X, y, test_size=0.2)"
      ],
      "metadata": {
        "id": "QXfqjnbXWaCN"
      },
      "execution_count": null,
      "outputs": []
    },
    {
      "cell_type": "code",
      "source": [
        "#Having a look at their shape\n",
        "for i in [X_train, X_test, y_train, y_test]:\n",
        "    print(i.shape)"
      ],
      "metadata": {
        "colab": {
          "base_uri": "https://localhost:8080/"
        },
        "id": "zTVbWPEAZ2q4",
        "outputId": "6f7cb144-7155-4a22-abe6-439bd30e8a27"
      },
      "execution_count": null,
      "outputs": [
        {
          "output_type": "stream",
          "name": "stdout",
          "text": [
            "(990, 12)\n",
            "(248, 12)\n",
            "(990, 1)\n",
            "(248, 1)\n"
          ]
        }
      ]
    },
    {
      "cell_type": "code",
      "source": [
        "bank.drop(\"Status\", axis=1)"
      ],
      "metadata": {
        "colab": {
          "base_uri": "https://localhost:8080/"
        },
        "id": "8p8DIGnhWIc7",
        "outputId": "38ed76a9-bc91-4711-be21-57d14a487124"
      },
      "execution_count": null,
      "outputs": [
        {
          "output_type": "execute_result",
          "data": {
            "text/plain": [
              "      AGE  CUS_Month_Income  CUS_Gender  CUS_Marital_Status  YEARS_WITH_US  \\\n",
              "0      49           7116.64           1                   1             25   \n",
              "1      46        1500000.00           0                   4             14   \n",
              "2      53        5000000.00           0                   4             14   \n",
              "3      15            500.00           0                   4             14   \n",
              "4      48        9000000.00           0                   4              5   \n",
              "...   ...               ...         ...                 ...            ...   \n",
              "1244   68           4500.00           1                   4             14   \n",
              "1245   35        3500000.00           1                   4             14   \n",
              "1246   34           1000.00           1                   4             14   \n",
              "1247   69        2000000.00           1                   4             14   \n",
              "1248   58        5000000.00           0                   4             14   \n",
              "\n",
              "      total debit amount  total debit transactions  total credit amount  \\\n",
              "0             4758311.63                       887           5659653.33   \n",
              "1              139363.22                        97             87000.00   \n",
              "2               37375.46                        53           1020883.70   \n",
              "3                4000.00                         1             76946.96   \n",
              "4              338470.29                        60            442100.00   \n",
              "...                  ...                       ...                  ...   \n",
              "1244             5645.60                        26                 0.00   \n",
              "1245           385735.90                       127            674630.41   \n",
              "1246          2473621.68                      1207           2641348.01   \n",
              "1247          1371852.22                       583           1310768.35   \n",
              "1248           761827.91                       233            666850.00   \n",
              "\n",
              "      total credit transactions  CUS_Target  TAR_Desc  CUS_birth_year  \n",
              "0                            65        2231         0            1970  \n",
              "1                            10        2223         1            1973  \n",
              "2                            27        2222         2            1966  \n",
              "3                            12        2223         1            2004  \n",
              "4                            21        2223         1            1971  \n",
              "...                         ...         ...       ...             ...  \n",
              "1244                          0        2223         1            1951  \n",
              "1245                         22        2222         2            1984  \n",
              "1246                        217        2232         2            1985  \n",
              "1247                         48        2222         2            1950  \n",
              "1248                         37        2222         2            1961  \n",
              "\n",
              "[1238 rows x 12 columns]"
            ],
            "text/html": [
              "\n",
              "  <div id=\"df-ce8b9990-503e-4a3d-a0f7-00909038b147\">\n",
              "    <div class=\"colab-df-container\">\n",
              "      <div>\n",
              "<style scoped>\n",
              "    .dataframe tbody tr th:only-of-type {\n",
              "        vertical-align: middle;\n",
              "    }\n",
              "\n",
              "    .dataframe tbody tr th {\n",
              "        vertical-align: top;\n",
              "    }\n",
              "\n",
              "    .dataframe thead th {\n",
              "        text-align: right;\n",
              "    }\n",
              "</style>\n",
              "<table border=\"1\" class=\"dataframe\">\n",
              "  <thead>\n",
              "    <tr style=\"text-align: right;\">\n",
              "      <th></th>\n",
              "      <th>AGE</th>\n",
              "      <th>CUS_Month_Income</th>\n",
              "      <th>CUS_Gender</th>\n",
              "      <th>CUS_Marital_Status</th>\n",
              "      <th>YEARS_WITH_US</th>\n",
              "      <th>total debit amount</th>\n",
              "      <th>total debit transactions</th>\n",
              "      <th>total credit amount</th>\n",
              "      <th>total credit transactions</th>\n",
              "      <th>CUS_Target</th>\n",
              "      <th>TAR_Desc</th>\n",
              "      <th>CUS_birth_year</th>\n",
              "    </tr>\n",
              "  </thead>\n",
              "  <tbody>\n",
              "    <tr>\n",
              "      <th>0</th>\n",
              "      <td>49</td>\n",
              "      <td>7116.64</td>\n",
              "      <td>1</td>\n",
              "      <td>1</td>\n",
              "      <td>25</td>\n",
              "      <td>4758311.63</td>\n",
              "      <td>887</td>\n",
              "      <td>5659653.33</td>\n",
              "      <td>65</td>\n",
              "      <td>2231</td>\n",
              "      <td>0</td>\n",
              "      <td>1970</td>\n",
              "    </tr>\n",
              "    <tr>\n",
              "      <th>1</th>\n",
              "      <td>46</td>\n",
              "      <td>1500000.00</td>\n",
              "      <td>0</td>\n",
              "      <td>4</td>\n",
              "      <td>14</td>\n",
              "      <td>139363.22</td>\n",
              "      <td>97</td>\n",
              "      <td>87000.00</td>\n",
              "      <td>10</td>\n",
              "      <td>2223</td>\n",
              "      <td>1</td>\n",
              "      <td>1973</td>\n",
              "    </tr>\n",
              "    <tr>\n",
              "      <th>2</th>\n",
              "      <td>53</td>\n",
              "      <td>5000000.00</td>\n",
              "      <td>0</td>\n",
              "      <td>4</td>\n",
              "      <td>14</td>\n",
              "      <td>37375.46</td>\n",
              "      <td>53</td>\n",
              "      <td>1020883.70</td>\n",
              "      <td>27</td>\n",
              "      <td>2222</td>\n",
              "      <td>2</td>\n",
              "      <td>1966</td>\n",
              "    </tr>\n",
              "    <tr>\n",
              "      <th>3</th>\n",
              "      <td>15</td>\n",
              "      <td>500.00</td>\n",
              "      <td>0</td>\n",
              "      <td>4</td>\n",
              "      <td>14</td>\n",
              "      <td>4000.00</td>\n",
              "      <td>1</td>\n",
              "      <td>76946.96</td>\n",
              "      <td>12</td>\n",
              "      <td>2223</td>\n",
              "      <td>1</td>\n",
              "      <td>2004</td>\n",
              "    </tr>\n",
              "    <tr>\n",
              "      <th>4</th>\n",
              "      <td>48</td>\n",
              "      <td>9000000.00</td>\n",
              "      <td>0</td>\n",
              "      <td>4</td>\n",
              "      <td>5</td>\n",
              "      <td>338470.29</td>\n",
              "      <td>60</td>\n",
              "      <td>442100.00</td>\n",
              "      <td>21</td>\n",
              "      <td>2223</td>\n",
              "      <td>1</td>\n",
              "      <td>1971</td>\n",
              "    </tr>\n",
              "    <tr>\n",
              "      <th>...</th>\n",
              "      <td>...</td>\n",
              "      <td>...</td>\n",
              "      <td>...</td>\n",
              "      <td>...</td>\n",
              "      <td>...</td>\n",
              "      <td>...</td>\n",
              "      <td>...</td>\n",
              "      <td>...</td>\n",
              "      <td>...</td>\n",
              "      <td>...</td>\n",
              "      <td>...</td>\n",
              "      <td>...</td>\n",
              "    </tr>\n",
              "    <tr>\n",
              "      <th>1244</th>\n",
              "      <td>68</td>\n",
              "      <td>4500.00</td>\n",
              "      <td>1</td>\n",
              "      <td>4</td>\n",
              "      <td>14</td>\n",
              "      <td>5645.60</td>\n",
              "      <td>26</td>\n",
              "      <td>0.00</td>\n",
              "      <td>0</td>\n",
              "      <td>2223</td>\n",
              "      <td>1</td>\n",
              "      <td>1951</td>\n",
              "    </tr>\n",
              "    <tr>\n",
              "      <th>1245</th>\n",
              "      <td>35</td>\n",
              "      <td>3500000.00</td>\n",
              "      <td>1</td>\n",
              "      <td>4</td>\n",
              "      <td>14</td>\n",
              "      <td>385735.90</td>\n",
              "      <td>127</td>\n",
              "      <td>674630.41</td>\n",
              "      <td>22</td>\n",
              "      <td>2222</td>\n",
              "      <td>2</td>\n",
              "      <td>1984</td>\n",
              "    </tr>\n",
              "    <tr>\n",
              "      <th>1246</th>\n",
              "      <td>34</td>\n",
              "      <td>1000.00</td>\n",
              "      <td>1</td>\n",
              "      <td>4</td>\n",
              "      <td>14</td>\n",
              "      <td>2473621.68</td>\n",
              "      <td>1207</td>\n",
              "      <td>2641348.01</td>\n",
              "      <td>217</td>\n",
              "      <td>2232</td>\n",
              "      <td>2</td>\n",
              "      <td>1985</td>\n",
              "    </tr>\n",
              "    <tr>\n",
              "      <th>1247</th>\n",
              "      <td>69</td>\n",
              "      <td>2000000.00</td>\n",
              "      <td>1</td>\n",
              "      <td>4</td>\n",
              "      <td>14</td>\n",
              "      <td>1371852.22</td>\n",
              "      <td>583</td>\n",
              "      <td>1310768.35</td>\n",
              "      <td>48</td>\n",
              "      <td>2222</td>\n",
              "      <td>2</td>\n",
              "      <td>1950</td>\n",
              "    </tr>\n",
              "    <tr>\n",
              "      <th>1248</th>\n",
              "      <td>58</td>\n",
              "      <td>5000000.00</td>\n",
              "      <td>0</td>\n",
              "      <td>4</td>\n",
              "      <td>14</td>\n",
              "      <td>761827.91</td>\n",
              "      <td>233</td>\n",
              "      <td>666850.00</td>\n",
              "      <td>37</td>\n",
              "      <td>2222</td>\n",
              "      <td>2</td>\n",
              "      <td>1961</td>\n",
              "    </tr>\n",
              "  </tbody>\n",
              "</table>\n",
              "<p>1238 rows × 12 columns</p>\n",
              "</div>\n",
              "      <button class=\"colab-df-convert\" onclick=\"convertToInteractive('df-ce8b9990-503e-4a3d-a0f7-00909038b147')\"\n",
              "              title=\"Convert this dataframe to an interactive table.\"\n",
              "              style=\"display:none;\">\n",
              "        \n",
              "  <svg xmlns=\"http://www.w3.org/2000/svg\" height=\"24px\"viewBox=\"0 0 24 24\"\n",
              "       width=\"24px\">\n",
              "    <path d=\"M0 0h24v24H0V0z\" fill=\"none\"/>\n",
              "    <path d=\"M18.56 5.44l.94 2.06.94-2.06 2.06-.94-2.06-.94-.94-2.06-.94 2.06-2.06.94zm-11 1L8.5 8.5l.94-2.06 2.06-.94-2.06-.94L8.5 2.5l-.94 2.06-2.06.94zm10 10l.94 2.06.94-2.06 2.06-.94-2.06-.94-.94-2.06-.94 2.06-2.06.94z\"/><path d=\"M17.41 7.96l-1.37-1.37c-.4-.4-.92-.59-1.43-.59-.52 0-1.04.2-1.43.59L10.3 9.45l-7.72 7.72c-.78.78-.78 2.05 0 2.83L4 21.41c.39.39.9.59 1.41.59.51 0 1.02-.2 1.41-.59l7.78-7.78 2.81-2.81c.8-.78.8-2.07 0-2.86zM5.41 20L4 18.59l7.72-7.72 1.47 1.35L5.41 20z\"/>\n",
              "  </svg>\n",
              "      </button>\n",
              "      \n",
              "  <style>\n",
              "    .colab-df-container {\n",
              "      display:flex;\n",
              "      flex-wrap:wrap;\n",
              "      gap: 12px;\n",
              "    }\n",
              "\n",
              "    .colab-df-convert {\n",
              "      background-color: #E8F0FE;\n",
              "      border: none;\n",
              "      border-radius: 50%;\n",
              "      cursor: pointer;\n",
              "      display: none;\n",
              "      fill: #1967D2;\n",
              "      height: 32px;\n",
              "      padding: 0 0 0 0;\n",
              "      width: 32px;\n",
              "    }\n",
              "\n",
              "    .colab-df-convert:hover {\n",
              "      background-color: #E2EBFA;\n",
              "      box-shadow: 0px 1px 2px rgba(60, 64, 67, 0.3), 0px 1px 3px 1px rgba(60, 64, 67, 0.15);\n",
              "      fill: #174EA6;\n",
              "    }\n",
              "\n",
              "    [theme=dark] .colab-df-convert {\n",
              "      background-color: #3B4455;\n",
              "      fill: #D2E3FC;\n",
              "    }\n",
              "\n",
              "    [theme=dark] .colab-df-convert:hover {\n",
              "      background-color: #434B5C;\n",
              "      box-shadow: 0px 1px 3px 1px rgba(0, 0, 0, 0.15);\n",
              "      filter: drop-shadow(0px 1px 2px rgba(0, 0, 0, 0.3));\n",
              "      fill: #FFFFFF;\n",
              "    }\n",
              "  </style>\n",
              "\n",
              "      <script>\n",
              "        const buttonEl =\n",
              "          document.querySelector('#df-ce8b9990-503e-4a3d-a0f7-00909038b147 button.colab-df-convert');\n",
              "        buttonEl.style.display =\n",
              "          google.colab.kernel.accessAllowed ? 'block' : 'none';\n",
              "\n",
              "        async function convertToInteractive(key) {\n",
              "          const element = document.querySelector('#df-ce8b9990-503e-4a3d-a0f7-00909038b147');\n",
              "          const dataTable =\n",
              "            await google.colab.kernel.invokeFunction('convertToInteractive',\n",
              "                                                     [key], {});\n",
              "          if (!dataTable) return;\n",
              "\n",
              "          const docLinkHtml = 'Like what you see? Visit the ' +\n",
              "            '<a target=\"_blank\" href=https://colab.research.google.com/notebooks/data_table.ipynb>data table notebook</a>'\n",
              "            + ' to learn more about interactive tables.';\n",
              "          element.innerHTML = '';\n",
              "          dataTable['output_type'] = 'display_data';\n",
              "          await google.colab.output.renderOutput(dataTable, element);\n",
              "          const docLink = document.createElement('div');\n",
              "          docLink.innerHTML = docLinkHtml;\n",
              "          element.appendChild(docLink);\n",
              "        }\n",
              "      </script>\n",
              "    </div>\n",
              "  </div>\n",
              "  "
            ]
          },
          "metadata": {},
          "execution_count": 42
        }
      ]
    },
    {
      "cell_type": "code",
      "source": [
        "#Feature Scaling by using StandardScaler \n",
        "from sklearn.preprocessing import StandardScaler\n",
        "scale = StandardScaler()\n",
        "X_train = scale.fit_transform(X_train)\n",
        "X_test = scale.transform(X_test)"
      ],
      "metadata": {
        "id": "uE1SFoRfZSaI"
      },
      "execution_count": null,
      "outputs": []
    },
    {
      "cell_type": "code",
      "source": [
        "#Using countplot from seaborn to check the distribution of labels in bank[\"Status\"]\n",
        "sns.countplot(bank[\"Status\"])"
      ],
      "metadata": {
        "colab": {
          "base_uri": "https://localhost:8080/"
        },
        "id": "jcQS3L37RgIC",
        "outputId": "710a23a1-8e57-4837-9c89-e0e8b797ad96"
      },
      "execution_count": null,
      "outputs": [
        {
          "output_type": "stream",
          "name": "stderr",
          "text": [
            "/usr/local/lib/python3.7/dist-packages/seaborn/_decorators.py:43: FutureWarning: Pass the following variable as a keyword arg: x. From version 0.12, the only valid positional argument will be `data`, and passing other arguments without an explicit keyword will result in an error or misinterpretation.\n",
            "  FutureWarning\n"
          ]
        },
        {
          "output_type": "execute_result",
          "data": {
            "text/plain": [
              "<matplotlib.axes._subplots.AxesSubplot at 0x7f02aa4da1d0>"
            ]
          },
          "metadata": {},
          "execution_count": 44
        },
        {
          "output_type": "display_data",
          "data": {
            "text/plain": [
              "<Figure size 432x288 with 1 Axes>"
            ],
            "image/png": "[encoded data removed]"
          },
          "metadata": {
            "needs_background": "light"
          }
        }
      ]
    },
    {
      "cell_type": "code",
      "source": [
        "#Checking for distribution of labels\n",
        "y_train.value_counts(normalize=True)"
      ],
      "metadata": {
        "colab": {
          "base_uri": "https://localhost:8080/"
        },
        "id": "tm8QrBYUaf-w",
        "outputId": "6ce085d1-d060-48d8-f5d6-23ebaf069b30"
      },
      "execution_count": null,
      "outputs": [
        {
          "output_type": "execute_result",
          "data": {
            "text/plain": [
              "ACTIVE    0.822222\n",
              "CHURN     0.177778\n",
              "dtype: float64"
            ]
          },
          "metadata": {},
          "execution_count": 45
        }
      ]
    },
    {
      "cell_type": "markdown",
      "source": [
        "### Logistic Regression"
      ],
      "metadata": {
        "id": "_zg2n_jcjQta"
      }
    },
    {
      "cell_type": "code",
      "source": [
        "#WE will add class weight due to class imbalance \n",
        "\n",
        "#lr_basemodel = linear_model.LogisticRegression(class_weight={\"ACTIVE\":0.18, \"CHURN\":0.82})\n",
        "lr_basemodel = linear_model.LogisticRegression(class_weight={\"ACTIVE\":0.18, \"CHURN\":0.83})\n",
        "\n",
        "#train model to learn relationships between input and output variables\n",
        "lr_basemodel.fit(X_train, y_train)"
      ],
      "metadata": {
        "colab": {
          "base_uri": "https://localhost:8080/"
        },
        "id": "_F6k-51rSToX",
        "outputId": "1db8cd37-1d0b-4c87-97ab-058217c9c8dd"
      },
      "execution_count": null,
      "outputs": [
        {
          "output_type": "stream",
          "name": "stderr",
          "text": [
            "/usr/local/lib/python3.7/dist-packages/sklearn/utils/validation.py:993: DataConversionWarning: A column-vector y was passed when a 1d array was expected. Please change the shape of y to (n_samples, ), for example using ravel().\n",
            "  y = column_or_1d(y, warn=True)\n"
          ]
        },
        {
          "output_type": "execute_result",
          "data": {
            "text/plain": [
              "LogisticRegression(class_weight={'ACTIVE': 0.18, 'CHURN': 0.83})"
            ]
          },
          "metadata": {},
          "execution_count": 46
        }
      ]
    },
    {
      "cell_type": "code",
      "source": [
        "#Predicted outcome from the X_test against the model\n",
        "\n",
        "predicted = lr_basemodel.predict(X_test)"
      ],
      "metadata": {
        "id": "c9IAA3_Ae6As"
      },
      "execution_count": null,
      "outputs": []
    },
    {
      "cell_type": "code",
      "source": [
        "#Using the metric to find the accuracy score\n",
        "\n",
        "from sklearn import metrics\n",
        "from sklearn.metrics import accuracy_score\n",
        "\n",
        "accuracy_score(y_test, predicted)"
      ],
      "metadata": {
        "colab": {
          "base_uri": "https://localhost:8080/"
        },
        "id": "NJ2LdYj4fDyG",
        "outputId": "e647f9b2-0517-46b3-de2c-52080edecb79"
      },
      "execution_count": null,
      "outputs": [
        {
          "output_type": "execute_result",
          "data": {
            "text/plain": [
              "0.7016129032258065"
            ]
          },
          "metadata": {},
          "execution_count": 48
        }
      ]
    },
    {
      "cell_type": "code",
      "source": [
        "#Evalution \n",
        "#Confusion Matrix\n",
        "\n",
        "print(metrics.confusion_matrix(y_test, predicted))"
      ],
      "metadata": {
        "colab": {
          "base_uri": "https://localhost:8080/"
        },
        "id": "o7f8J7dF8EpJ",
        "outputId": "785c8512-1e86-4a24-cccc-69a11be0c367"
      },
      "execution_count": null,
      "outputs": [
        {
          "output_type": "stream",
          "name": "stdout",
          "text": [
            "[[133  68]\n",
            " [  6  41]]\n"
          ]
        }
      ]
    },
    {
      "cell_type": "code",
      "source": [
        "#Classification report \n",
        "\n",
        "print(metrics.classification_report(y_test, predicted))"
      ],
      "metadata": {
        "colab": {
          "base_uri": "https://localhost:8080/"
        },
        "id": "iljoleO-8t7a",
        "outputId": "12fce7dc-721e-4ab6-91af-4a573ff29749"
      },
      "execution_count": null,
      "outputs": [
        {
          "output_type": "stream",
          "name": "stdout",
          "text": [
            "              precision    recall  f1-score   support\n",
            "\n",
            "      ACTIVE       0.96      0.66      0.78       201\n",
            "       CHURN       0.38      0.87      0.53        47\n",
            "\n",
            "    accuracy                           0.70       248\n",
            "   macro avg       0.67      0.77      0.65       248\n",
            "weighted avg       0.85      0.70      0.73       248\n",
            "\n"
          ]
        }
      ]
    },
    {
      "cell_type": "markdown",
      "source": [
        "### Random Forest"
      ],
      "metadata": {
        "id": "T6YlN1wNjLlK"
      }
    },
    {
      "cell_type": "code",
      "source": [
        "#WE will add class weight due to class imbalance \n",
        "\n",
        "from sklearn.ensemble import RandomForestClassifier\n",
        "\n",
        "rf = RandomForestClassifier(class_weight={\"ACTIVE\":0.18, \"CHURN\":0.83})\n",
        "\n",
        "#train model to learn relationships between input and output variables\n",
        "rf.fit(X_train, y_train)"
      ],
      "metadata": {
        "colab": {
          "base_uri": "https://localhost:8080/"
        },
        "id": "voe92I0YnjpF",
        "outputId": "45ca4d10-f6af-447c-d360-5f49935e6fee"
      },
      "execution_count": null,
      "outputs": [
        {
          "output_type": "stream",
          "name": "stderr",
          "text": [
            "/usr/local/lib/python3.7/dist-packages/ipykernel_launcher.py:8: DataConversionWarning: A column-vector y was passed when a 1d array was expected. Please change the shape of y to (n_samples,), for example using ravel().\n",
            "  \n"
          ]
        },
        {
          "output_type": "execute_result",
          "data": {
            "text/plain": [
              "RandomForestClassifier(class_weight={'ACTIVE': 0.18, 'CHURN': 0.83})"
            ]
          },
          "metadata": {},
          "execution_count": 51
        }
      ]
    },
    {
      "cell_type": "code",
      "source": [
        "#Predicted outcome from the X_test against the model\n",
        "\n",
        "predicted = rf.predict(X_test)"
      ],
      "metadata": {
        "id": "WzR27Hrlo8RJ"
      },
      "execution_count": null,
      "outputs": []
    },
    {
      "cell_type": "code",
      "source": [
        "#Using the metric to find the accuracy score\n",
        "\n",
        "from sklearn import metrics\n",
        "from sklearn.metrics import accuracy_score\n",
        "\n",
        "accuracy_score(y_test, predicted)"
      ],
      "metadata": {
        "colab": {
          "base_uri": "https://localhost:8080/"
        },
        "id": "hqVuB5TUo_S8",
        "outputId": "d8a272da-dedc-4d8f-f6f7-9b1af45ed6a3"
      },
      "execution_count": null,
      "outputs": [
        {
          "output_type": "execute_result",
          "data": {
            "text/plain": [
              "0.8548387096774194"
            ]
          },
          "metadata": {},
          "execution_count": 53
        }
      ]
    },
    {
      "cell_type": "code",
      "source": [
        "#Evalution \n",
        "#Confusion Matrix\n",
        "\n",
        "print(metrics.confusion_matrix(y_test, predicted))"
      ],
      "metadata": {
        "colab": {
          "base_uri": "https://localhost:8080/"
        },
        "id": "48SlvBE8pJ1Q",
        "outputId": "1099488e-597c-40c2-db00-3e05ae03a5e2"
      },
      "execution_count": null,
      "outputs": [
        {
          "output_type": "stream",
          "name": "stdout",
          "text": [
            "[[193   8]\n",
            " [ 28  19]]\n"
          ]
        }
      ]
    },
    {
      "cell_type": "code",
      "source": [
        "#Classification report \n",
        "\n",
        "print(metrics.classification_report(y_test, predicted))"
      ],
      "metadata": {
        "colab": {
          "base_uri": "https://localhost:8080/"
        },
        "id": "5rOb_b2opQGK",
        "outputId": "8f25754e-0bd3-41f0-c023-2f4b3683a0d7"
      },
      "execution_count": null,
      "outputs": [
        {
          "output_type": "stream",
          "name": "stdout",
          "text": [
            "              precision    recall  f1-score   support\n",
            "\n",
            "      ACTIVE       0.87      0.96      0.91       201\n",
            "       CHURN       0.70      0.40      0.51        47\n",
            "\n",
            "    accuracy                           0.85       248\n",
            "   macro avg       0.79      0.68      0.71       248\n",
            "weighted avg       0.84      0.85      0.84       248\n",
            "\n"
          ]
        }
      ]
    },
    {
      "cell_type": "markdown",
      "source": [
        "# Pickle File"
      ],
      "metadata": {
        "id": "ydnDNJs8Zfgw"
      }
    },
    {
      "cell_type": "code",
      "source": [
        "#Flattening the entire intelligence of Machine learning model\n",
        "import pickle\n",
        "\n",
        "pickle.dump(rf, open(\"rf.pkl\", \"wb\"))"
      ],
      "metadata": {
        "id": "Cb3pmUnAfWAj"
      },
      "execution_count": null,
      "outputs": []
    }
  ]
}